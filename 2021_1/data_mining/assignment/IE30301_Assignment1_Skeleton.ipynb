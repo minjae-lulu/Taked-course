{
 "cells": [
  {
   "cell_type": "markdown",
   "metadata": {},
   "source": [
    "# IE30301 DataMining Programming HW1"
   ]
  },
  {
   "cell_type": "markdown",
   "metadata": {},
   "source": [
    "Type your name and student ID here. Do not share this Jupyter Script online.\n",
    "### NAME: lee min jae (이민재)\n",
    "### Student Number: 20161190"
   ]
  },
  {
   "cell_type": "markdown",
   "metadata": {},
   "source": [
    "---"
   ]
  },
  {
   "cell_type": "markdown",
   "metadata": {},
   "source": [
    "### Import Packages\n",
    "- Do not use packages specified other than below\n",
    "- However, it is not nessasary to use all the packages below \n",
    "- For task 1.6, you need to use the package 'statsmodel.api'\n",
    "- Both packages('sklearn.linear_model' and 'statsmodels.api') can be used to load linear regression model"
   ]
  },
  {
   "cell_type": "code",
   "execution_count": 1,
   "metadata": {},
   "outputs": [],
   "source": [
    "import numpy as np\n",
    "import pandas as pd\n",
    "import matplotlib.pyplot as plt\n",
    "from sklearn import linear_model\n",
    "import statsmodels.api as sm\n",
    "from sklearn.model_selection import train_test_split"
   ]
  },
  {
   "cell_type": "markdown",
   "metadata": {},
   "source": [
    "## Task 1. Multiple linear regression [15 points]"
   ]
  },
  {
   "cell_type": "markdown",
   "metadata": {},
   "source": [
    "#### 1.1 Load Dataset [1 points]"
   ]
  },
  {
   "cell_type": "code",
   "execution_count": 2,
   "metadata": {},
   "outputs": [],
   "source": [
    "data = pd.read_csv(\"diabetes.csv\")"
   ]
  },
  {
   "cell_type": "markdown",
   "metadata": {},
   "source": [
    "#### 1.2 Split Dataset into the train & test set [1 points]\n",
    "- You have to use the specified random seed when dividing the dataset using the function 'train_test_split'\n",
    "- The specified random seed value is 0\n",
    "- The ratio of train set and test set is as follows: 70% train set / 30% test set"
   ]
  },
  {
   "cell_type": "code",
   "execution_count": 3,
   "metadata": {},
   "outputs": [],
   "source": [
    "X_train,X_test,Y_train,Y_test = train_test_split(data.iloc[:,:10],data.iloc[:,10:],train_size=0.7, random_state=0)"
   ]
  },
  {
   "cell_type": "markdown",
   "metadata": {},
   "source": [
    "#### 1.3 Load model and train the model [2 points]\n",
    "- Intercept term should be included for training"
   ]
  },
  {
   "cell_type": "code",
   "execution_count": 4,
   "metadata": {},
   "outputs": [
    {
     "name": "stdout",
     "output_type": "stream",
     "text": [
      "intercept : [153.71914541]\n"
     ]
    }
   ],
   "source": [
    "model = linear_model.LinearRegression()\n",
    "model.fit(X_train,Y_train)\n",
    "\n",
    "print(\"intercept :\", model.intercept_ )"
   ]
  },
  {
   "cell_type": "markdown",
   "metadata": {},
   "source": [
    "#### 1.4 Predict and evaluate the model [4 points]\n",
    "\n",
    "- Predict target y using the trained model\n",
    "- Evaluate the trained model using the two metrics (*it is not allowed to use packages for this task)\n",
    "    1. mean squared error(MSE)\n",
    "    2. R2 score\n",
    "- Calculated scores should be placed in the specified cell"
   ]
  },
  {
   "cell_type": "code",
   "execution_count": 5,
   "metadata": {},
   "outputs": [
    {
     "data": {
      "text/plain": [
       "array([[239.6785766 ],\n",
       "       [250.53141737],\n",
       "       [164.84805461],\n",
       "       [120.27678545],\n",
       "       [181.73395543],\n",
       "       [262.21230671],\n",
       "       [112.23276599],\n",
       "       [191.94646405],\n",
       "       [151.50037962],\n",
       "       [236.97547898],\n",
       "       [172.17106886],\n",
       "       [181.76776675],\n",
       "       [112.11718447],\n",
       "       [ 93.10535397],\n",
       "       [242.61551546],\n",
       "       [ 91.18854011],\n",
       "       [153.66210217],\n",
       "       [ 64.67732159],\n",
       "       [ 99.36843868],\n",
       "       [212.25939578],\n",
       "       [197.03895856],\n",
       "       [162.46443162],\n",
       "       [164.14281795],\n",
       "       [157.73824133],\n",
       "       [207.25537379],\n",
       "       [170.20342369],\n",
       "       [111.97456707],\n",
       "       [ 82.77243482],\n",
       "       [186.91705702],\n",
       "       [164.72179002],\n",
       "       [175.37310208],\n",
       "       [ 82.34780886],\n",
       "       [144.28954965],\n",
       "       [149.22361436],\n",
       "       [144.09115907],\n",
       "       [194.25825855],\n",
       "       [166.52462404],\n",
       "       [188.10488874],\n",
       "       [126.97750787],\n",
       "       [205.91826796],\n",
       "       [ 85.53348753],\n",
       "       [167.78356048],\n",
       "       [147.74549209],\n",
       "       [183.84581135],\n",
       "       [177.14794619],\n",
       "       [ 71.92344074],\n",
       "       [139.84126287],\n",
       "       [139.03021418],\n",
       "       [125.12177811],\n",
       "       [231.42294135],\n",
       "       [163.79584007],\n",
       "       [ 78.92939231],\n",
       "       [151.43859067],\n",
       "       [159.59729648],\n",
       "       [237.28907635],\n",
       "       [176.12271938],\n",
       "       [191.69740342],\n",
       "       [118.93503631],\n",
       "       [131.10139145],\n",
       "       [174.80265252],\n",
       "       [216.57324581],\n",
       "       [169.87858747],\n",
       "       [156.38305845],\n",
       "       [113.57344508],\n",
       "       [261.96459935],\n",
       "       [155.5688548 ],\n",
       "       [ 84.32840048],\n",
       "       [228.12498242],\n",
       "       [208.51229775],\n",
       "       [ 46.19025943],\n",
       "       [ 76.55977912],\n",
       "       [133.97092372],\n",
       "       [108.91547153],\n",
       "       [143.46905811],\n",
       "       [134.31324118],\n",
       "       [190.25053507],\n",
       "       [103.86529131],\n",
       "       [203.62660531],\n",
       "       [222.35301212],\n",
       "       [189.44972403],\n",
       "       [148.80957207],\n",
       "       [210.15484759],\n",
       "       [ 46.69167831],\n",
       "       [208.0703178 ],\n",
       "       [ 82.2849209 ],\n",
       "       [ 94.17772368],\n",
       "       [147.58659275],\n",
       "       [197.16861909],\n",
       "       [133.35711356],\n",
       "       [148.69237763],\n",
       "       [ 98.63749215],\n",
       "       [125.15022037],\n",
       "       [ 84.58243456],\n",
       "       [153.18312111],\n",
       "       [123.59604696],\n",
       "       [104.1937366 ],\n",
       "       [237.72305796],\n",
       "       [224.13995865],\n",
       "       [129.89494832],\n",
       "       [166.37194524],\n",
       "       [193.26747468],\n",
       "       [112.19398008],\n",
       "       [208.54905555],\n",
       "       [ 84.2206551 ],\n",
       "       [217.62552861],\n",
       "       [112.38375349],\n",
       "       [225.37453456],\n",
       "       [270.15021337],\n",
       "       [115.82962894],\n",
       "       [115.82859442],\n",
       "       [196.13824099],\n",
       "       [121.02331185],\n",
       "       [175.04883143],\n",
       "       [103.77034839],\n",
       "       [ 98.52799319],\n",
       "       [224.83511832],\n",
       "       [237.98041164],\n",
       "       [115.5341465 ],\n",
       "       [294.28289566],\n",
       "       [115.71236099],\n",
       "       [131.16053877],\n",
       "       [115.42422204],\n",
       "       [ 66.90331418],\n",
       "       [245.86735403],\n",
       "       [102.70400111],\n",
       "       [123.62547679],\n",
       "       [206.333561  ],\n",
       "       [187.03151682],\n",
       "       [195.68456817],\n",
       "       [165.03910148],\n",
       "       [193.77497659],\n",
       "       [112.03733039],\n",
       "       [172.34904863]])"
      ]
     },
     "execution_count": 5,
     "metadata": {},
     "output_type": "execute_result"
    }
   ],
   "source": [
    "# predict \n",
    "Y_pred = model.predict(X_test)\n",
    "Y_pred"
   ]
  },
  {
   "cell_type": "code",
   "execution_count": 6,
   "metadata": {},
   "outputs": [],
   "source": [
    "# calculate MSE \n",
    "c = len(Y_test) \n",
    "Y_test1 = np.array(Y_test)\n",
    "\n",
    "MSE = (1/c)*((Y_pred-Y_test1)**2).sum()\n"
   ]
  },
  {
   "cell_type": "code",
   "execution_count": 7,
   "metadata": {},
   "outputs": [
    {
     "name": "stdout",
     "output_type": "stream",
     "text": [
      "mean squared error :  3097.146138387797\n"
     ]
    }
   ],
   "source": [
    "# write calculated MSE value here \n",
    "print(\"mean squared error : \", MSE)\n"
   ]
  },
  {
   "cell_type": "code",
   "execution_count": 8,
   "metadata": {},
   "outputs": [],
   "source": [
    "# calculate R2\n",
    "SSE = 0\n",
    "SST = 0\n",
    "\n",
    "c = len(Y_test)\n",
    "Y_test1 = np.array(Y_test)\n",
    "\n",
    "SSE = ((Y_pred-Y_test1)**2).sum()\n",
    "\n",
    "mu = Y_test1.mean()\n",
    "SST = ((Y_test1-mu)**2).sum()"
   ]
  },
  {
   "cell_type": "code",
   "execution_count": 9,
   "metadata": {},
   "outputs": [
    {
     "name": "stdout",
     "output_type": "stream",
     "text": [
      "R2:  0.3928939845074759\n"
     ]
    }
   ],
   "source": [
    "# write calculated R2 score here \n",
    "R2 = 1-SSE/SST\n",
    "print(\"R2: \", R2)"
   ]
  },
  {
   "cell_type": "markdown",
   "metadata": {},
   "source": [
    "#### 1.5 Write the linear regression formula of the trained model [3 points]"
   ]
  },
  {
   "cell_type": "code",
   "execution_count": 10,
   "metadata": {},
   "outputs": [
    {
     "name": "stdout",
     "output_type": "stream",
     "text": [
      "y_pred = \n",
      "153.7191+(-52.4699)*X_1+(-193.5106)*X_2+(579.4828)*X_3+(272.464)*X_4+(-504.724)*X_5+(241.6844)*X_6+(-69.7362)*X_7+(86.6202)*X_8+(721.9558)*X_9+(26.7789)*X_10\n"
     ]
    }
   ],
   "source": [
    "A = [round(float(model.intercept_),4)]\n",
    "print(\"y_pred = \")\n",
    "for i in range(1,11):\n",
    "    A.append(\"(\" + str(round(model.coef_[0][i-1],4)) + \")*X_\" + str(i))\n",
    "for i in range(len(A)-1):\n",
    "        print(A[i], end =\"+\")\n",
    "print(A[len(A)-1])"
   ]
  },
  {
   "cell_type": "markdown",
   "metadata": {},
   "source": [
    "#### 1.6 Check the p-value and find out significant variables [4 points]\n",
    "- Print p-value of each variable \n",
    "- List all variables judged to be significant based on the p-value 0.05 "
   ]
  },
  {
   "cell_type": "code",
   "execution_count": 11,
   "metadata": {},
   "outputs": [
    {
     "data": {
      "text/plain": [
       "age    0.664453\n",
       "sex    0.621318\n",
       "bmi    0.030345\n",
       "bp     0.189073\n",
       "s1     0.902778\n",
       "s2     0.666779\n",
       "s3     0.919180\n",
       "s4     0.431045\n",
       "s5     0.572537\n",
       "s6     0.929429\n",
       "dtype: float64"
      ]
     },
     "execution_count": 11,
     "metadata": {},
     "output_type": "execute_result"
    }
   ],
   "source": [
    "# p-value of each variable\n",
    "sm.OLS(Y_train,X_train).fit().pvalues"
   ]
  },
  {
   "cell_type": "code",
   "execution_count": 12,
   "metadata": {},
   "outputs": [
    {
     "name": "stdout",
     "output_type": "stream",
     "text": [
      "[bmi    0.030345\n",
      "dtype: float64]\n"
     ]
    }
   ],
   "source": [
    "# significant variables list \n",
    "\n",
    "p_values = sm.OLS(Y_train,X_train).fit().pvalues\n",
    "\n",
    "s_var = []\n",
    "for i in range (len(p_values)):\n",
    "    if p_values[:][i] < 0.05:\n",
    "        s_var.append(p_values[i:i+1])\n",
    "        \n",
    "print(s_var)"
   ]
  },
  {
   "cell_type": "markdown",
   "metadata": {},
   "source": [
    "## Task 2. Simple linear regression [15 points]"
   ]
  },
  {
   "cell_type": "markdown",
   "metadata": {},
   "source": [
    "#### 2.1 Select one feataure using information of p-value [1 points]\n",
    "- Select one of the variables judged to be significant in task 1.6 and mention the variable name you choose\n",
    "- Remake a dataset only including the variable you choose "
   ]
  },
  {
   "cell_type": "code",
   "execution_count": 13,
   "metadata": {},
   "outputs": [
    {
     "data": {
      "text/html": [
       "<div>\n",
       "<style scoped>\n",
       "    .dataframe tbody tr th:only-of-type {\n",
       "        vertical-align: middle;\n",
       "    }\n",
       "\n",
       "    .dataframe tbody tr th {\n",
       "        vertical-align: top;\n",
       "    }\n",
       "\n",
       "    .dataframe thead th {\n",
       "        text-align: right;\n",
       "    }\n",
       "</style>\n",
       "<table border=\"1\" class=\"dataframe\">\n",
       "  <thead>\n",
       "    <tr style=\"text-align: right;\">\n",
       "      <th></th>\n",
       "      <th>bmi</th>\n",
       "      <th>target</th>\n",
       "    </tr>\n",
       "  </thead>\n",
       "  <tbody>\n",
       "    <tr>\n",
       "      <th>0</th>\n",
       "      <td>0.061696</td>\n",
       "      <td>151.0</td>\n",
       "    </tr>\n",
       "    <tr>\n",
       "      <th>1</th>\n",
       "      <td>-0.051474</td>\n",
       "      <td>75.0</td>\n",
       "    </tr>\n",
       "    <tr>\n",
       "      <th>2</th>\n",
       "      <td>0.044451</td>\n",
       "      <td>141.0</td>\n",
       "    </tr>\n",
       "    <tr>\n",
       "      <th>3</th>\n",
       "      <td>-0.011595</td>\n",
       "      <td>206.0</td>\n",
       "    </tr>\n",
       "    <tr>\n",
       "      <th>4</th>\n",
       "      <td>-0.036385</td>\n",
       "      <td>135.0</td>\n",
       "    </tr>\n",
       "    <tr>\n",
       "      <th>...</th>\n",
       "      <td>...</td>\n",
       "      <td>...</td>\n",
       "    </tr>\n",
       "    <tr>\n",
       "      <th>437</th>\n",
       "      <td>0.019662</td>\n",
       "      <td>178.0</td>\n",
       "    </tr>\n",
       "    <tr>\n",
       "      <th>438</th>\n",
       "      <td>-0.015906</td>\n",
       "      <td>104.0</td>\n",
       "    </tr>\n",
       "    <tr>\n",
       "      <th>439</th>\n",
       "      <td>-0.015906</td>\n",
       "      <td>132.0</td>\n",
       "    </tr>\n",
       "    <tr>\n",
       "      <th>440</th>\n",
       "      <td>0.039062</td>\n",
       "      <td>220.0</td>\n",
       "    </tr>\n",
       "    <tr>\n",
       "      <th>441</th>\n",
       "      <td>-0.073030</td>\n",
       "      <td>57.0</td>\n",
       "    </tr>\n",
       "  </tbody>\n",
       "</table>\n",
       "<p>442 rows × 2 columns</p>\n",
       "</div>"
      ],
      "text/plain": [
       "          bmi  target\n",
       "0    0.061696   151.0\n",
       "1   -0.051474    75.0\n",
       "2    0.044451   141.0\n",
       "3   -0.011595   206.0\n",
       "4   -0.036385   135.0\n",
       "..        ...     ...\n",
       "437  0.019662   178.0\n",
       "438 -0.015906   104.0\n",
       "439 -0.015906   132.0\n",
       "440  0.039062   220.0\n",
       "441 -0.073030    57.0\n",
       "\n",
       "[442 rows x 2 columns]"
      ]
     },
     "execution_count": 13,
     "metadata": {},
     "output_type": "execute_result"
    }
   ],
   "source": [
    "#p_test -> we use bmi and do simple linear regression.\n",
    "re_data = data.drop([\"age\",\"sex\",'bp',\"s1\",\"s2\",\"s3\",\"s4\",\"s5\",\"s6\"],axis = 1)\n",
    "re_data"
   ]
  },
  {
   "cell_type": "markdown",
   "metadata": {},
   "source": [
    "#### 2.2 Split Dataset into the train & test set [1 points]\n",
    "- To perform this task, you need to use the reconstructed dataset in task 2.1\n",
    "- You have to use the specified random seed when dividing the dataset using the package 'train_test_split'\n",
    "- The specified random seed value is 0\n",
    "- The ratio of train set and test set is as follows: 70% train set / 30% test set"
   ]
  },
  {
   "cell_type": "code",
   "execution_count": 14,
   "metadata": {},
   "outputs": [],
   "source": [
    "X_train,X_test, Y_train, Y_test = train_test_split( re_data.iloc[:,:1],re_data.iloc[:,1:], train_size=0.7, random_state=0)"
   ]
  },
  {
   "cell_type": "markdown",
   "metadata": {},
   "source": [
    "#### 2.3 Load model and train the model [2 points]\n",
    "- Intercept term should be included for training"
   ]
  },
  {
   "cell_type": "code",
   "execution_count": 15,
   "metadata": {},
   "outputs": [
    {
     "name": "stdout",
     "output_type": "stream",
     "text": [
      "Intercept :  [153.43509039]\n",
      "Coef :  [[1013.17358257]]\n"
     ]
    }
   ],
   "source": [
    "model = linear_model.LinearRegression()\n",
    "model.fit(X_train, Y_train)\n",
    "\n",
    "print(\"Intercept : \" , model.intercept_)\n",
    "print(\"Coef : \", model.coef_)"
   ]
  },
  {
   "cell_type": "markdown",
   "metadata": {},
   "source": [
    "#### 2.4 Predict and evaluate the results [4 points]\n",
    "\n",
    "- Predict target y using the trained model\n",
    "- Evaluate the trained model using the two metrics (*it is not allowed to use packages for this task)\n",
    "    1. mean squared error(MSE)\n",
    "    2. R2 score\n",
    "- Calculated scores should be placed in the specified cell"
   ]
  },
  {
   "cell_type": "code",
   "execution_count": 16,
   "metadata": {},
   "outputs": [
    {
     "data": {
      "text/plain": [
       "array([[259.62448579],\n",
       "       [214.85204626],\n",
       "       [162.43553169],\n",
       "       [129.67521008],\n",
       "       [199.56389618],\n",
       "       [251.98041075],\n",
       "       [124.21515648],\n",
       "       [176.63167105],\n",
       "       [208.29998194],\n",
       "       [200.6559069 ],\n",
       "       [ 94.73086704],\n",
       "       [200.6559069 ],\n",
       "       [115.47907072],\n",
       "       [106.74298496],\n",
       "       [243.24432499],\n",
       "       [130.7672208 ],\n",
       "       [ 93.63885632],\n",
       "       [101.28293136],\n",
       "       [ 68.52260975],\n",
       "       [194.10384258],\n",
       "       [182.09172465],\n",
       "       [164.61955313],\n",
       "       [128.58319936],\n",
       "       [212.66802482],\n",
       "       [209.39199266],\n",
       "       [171.17161745],\n",
       "       [111.11102784],\n",
       "       [107.83499568],\n",
       "       [158.06748881],\n",
       "       [179.90770321],\n",
       "       [150.42341377],\n",
       "       [100.19092064],\n",
       "       [142.77933873],\n",
       "       [141.68732801],\n",
       "       [147.14738161],\n",
       "       [174.44764961],\n",
       "       [137.31928513],\n",
       "       [143.87134945],\n",
       "       [154.79145665],\n",
       "       [187.55177826],\n",
       "       [ 87.08679199],\n",
       "       [142.77933873],\n",
       "       [146.05537089],\n",
       "       [149.33140305],\n",
       "       [184.2757461 ],\n",
       "       [ 91.45483488],\n",
       "       [134.04325296],\n",
       "       [178.81569249],\n",
       "       [119.8471136 ],\n",
       "       [187.55177826],\n",
       "       [130.7672208 ],\n",
       "       [105.65097424],\n",
       "       [172.26362817],\n",
       "       [144.96336017],\n",
       "       [197.37987474],\n",
       "       [135.13526368],\n",
       "       [184.2757461 ],\n",
       "       [149.33140305],\n",
       "       [148.23939233],\n",
       "       [165.71156385],\n",
       "       [195.1958533 ],\n",
       "       [177.72368177],\n",
       "       [203.93193906],\n",
       "       [131.85923152],\n",
       "       [214.85204626],\n",
       "       [182.09172465],\n",
       "       [ 90.36282416],\n",
       "       [201.74791762],\n",
       "       [196.28786402],\n",
       "       [ 79.44271695],\n",
       "       [127.49118864],\n",
       "       [127.49118864],\n",
       "       [123.12314576],\n",
       "       [190.82781042],\n",
       "       [159.15949953],\n",
       "       [128.58319936],\n",
       "       [137.31928513],\n",
       "       [214.85204626],\n",
       "       [235.60024995],\n",
       "       [179.90770321],\n",
       "       [150.42341377],\n",
       "       [163.52754241],\n",
       "       [132.95124224],\n",
       "       [167.89558529],\n",
       "       [ 63.06255615],\n",
       "       [ 81.62673839],\n",
       "       [197.37987474],\n",
       "       [167.89558529],\n",
       "       [143.87134945],\n",
       "       [155.88346737],\n",
       "       [ 75.07467407],\n",
       "       [117.66309216],\n",
       "       [154.79145665],\n",
       "       [174.44764961],\n",
       "       [116.57108144],\n",
       "       [112.20303856],\n",
       "       [186.45976754],\n",
       "       [269.45258227],\n",
       "       [182.09172465],\n",
       "       [215.94405698],\n",
       "       [140.59531729],\n",
       "       [112.20303856],\n",
       "       [143.87134945],\n",
       "       [ 94.73086704],\n",
       "       [207.20797122],\n",
       "       [151.51542449],\n",
       "       [208.29998194],\n",
       "       [292.3848074 ],\n",
       "       [149.33140305],\n",
       "       [123.12314576],\n",
       "       [173.35563889],\n",
       "       [ 95.82287776],\n",
       "       [ 96.91488848],\n",
       "       [ 61.97054543],\n",
       "       [127.49118864],\n",
       "       [227.9561749 ],\n",
       "       [229.04818562],\n",
       "       [114.38706   ],\n",
       "       [278.18866803],\n",
       "       [108.9270064 ],\n",
       "       [122.03113504],\n",
       "       [127.49118864],\n",
       "       [103.4669528 ],\n",
       "       [210.48400338],\n",
       "       [ 96.91488848],\n",
       "       [130.7672208 ],\n",
       "       [167.89558529],\n",
       "       [191.91982114],\n",
       "       [221.40411058],\n",
       "       [160.25151025],\n",
       "       [170.07960673],\n",
       "       [146.05537089],\n",
       "       [162.43553169]])"
      ]
     },
     "execution_count": 16,
     "metadata": {},
     "output_type": "execute_result"
    }
   ],
   "source": [
    "# predict \n",
    "Y_pred = model.predict(X_test)\n",
    "Y_pred"
   ]
  },
  {
   "cell_type": "code",
   "execution_count": 17,
   "metadata": {},
   "outputs": [],
   "source": [
    "# code for caluating MSE\n",
    "c = len(Y_test) \n",
    "Y_test1 = np.array(Y_test)\n",
    "\n",
    "MSE = (1/c)*((Y_pred-Y_test1)**2).sum()\n",
    "\n"
   ]
  },
  {
   "cell_type": "code",
   "execution_count": 18,
   "metadata": {},
   "outputs": [
    {
     "name": "stdout",
     "output_type": "stream",
     "text": [
      "mean squared error :  3921.372027424851\n"
     ]
    }
   ],
   "source": [
    "# write calculated MSE value here \n",
    "print(\"mean squared error : \", MSE)"
   ]
  },
  {
   "cell_type": "code",
   "execution_count": 19,
   "metadata": {},
   "outputs": [],
   "source": [
    "# code for calculating R2 score\n",
    "Ynew_test1 = np.array(Y_test)\n",
    "\n",
    "SSE = ((Ynew_test1 - Y_pred)**2).sum()\n",
    "\n",
    "mu = Ynew_test1.mean()\n",
    "SST = ((mu-Ynew_test1)**2).sum()"
   ]
  },
  {
   "cell_type": "code",
   "execution_count": 20,
   "metadata": {},
   "outputs": [
    {
     "name": "stdout",
     "output_type": "stream",
     "text": [
      "R2:  0.23132831307953805\n"
     ]
    }
   ],
   "source": [
    "# write calculated R2 score value here \n",
    "R2 = 1 - SSE/SST\n",
    "\n",
    "print(\"R2: \", R2)"
   ]
  },
  {
   "cell_type": "markdown",
   "metadata": {},
   "source": [
    "#### 2.5 Write the linear regression formula of the trained model [3 points]"
   ]
  },
  {
   "cell_type": "code",
   "execution_count": 21,
   "metadata": {},
   "outputs": [
    {
     "name": "stdout",
     "output_type": "stream",
     "text": [
      "y_hat = (153.43509) + (1013.17358)*X_1\n"
     ]
    }
   ],
   "source": [
    "print(\"y_hat = \"\"(\" +str(round(float(model.intercept_),5)) +\") + \" +\"(\" + str(round(float(model.coef_),5)) + \")*\" + \"X_1\")"
   ]
  },
  {
   "cell_type": "markdown",
   "metadata": {},
   "source": [
    "#### 2.6 Plot graph [4 points]\n",
    "- Plot data points of test set and draw the line you get from the trained model "
   ]
  },
  {
   "cell_type": "markdown",
   "metadata": {},
   "source": []
  },
  {
   "cell_type": "code",
   "execution_count": 22,
   "metadata": {},
   "outputs": [
    {
     "data": {
      "image/png": "[encoded data removed]",
      "text/plain": [
       "<Figure size 432x288 with 1 Axes>"
      ]
     },
     "metadata": {
      "needs_background": "light"
     },
     "output_type": "display_data"
    }
   ],
   "source": [
    "plt.scatter(X_test,Y_test)\n",
    "x = np.arange(-0.2,0.2,0.01)\n",
    "y = float(model.intercept_) + x*float(model.coef_)\n",
    "plt.plot(x,y)\n",
    "plt.xlabel('BMI', labelpad=10)\n",
    "plt.ylabel(\"Target\", labelpad=10)\n",
    "\n",
    "plt.xticks(np.linspace(x[0],x[-1],11))\n",
    "\n",
    "plt.show()"
   ]
  }
 ],
 "metadata": {
  "kernelspec": {
   "display_name": "Python 3",
   "language": "python",
   "name": "python3"
  },
  "language_info": {
   "codemirror_mode": {
    "name": "ipython",
    "version": 3
   },
   "file_extension": ".py",
   "mimetype": "text/x-python",
   "name": "python",
   "nbconvert_exporter": "python",
   "pygments_lexer": "ipython3",
   "version": "3.8.5"
  }
 },
 "nbformat": 4,
 "nbformat_minor": 4
}
