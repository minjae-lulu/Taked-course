{
 "cells": [
  {
   "cell_type": "code",
   "execution_count": 1,
   "metadata": {},
   "outputs": [],
   "source": [
    "import numpy as np\n",
    "import pandas as pd\n",
    "import matplotlib.pyplot as plt\n",
    "from sklearn.datasets import load_breast_cancer\n",
    "from sklearn.model_selection import train_test_split\n",
    "from sklearn.neighbors import KNeighborsClassifier"
   ]
  },
  {
   "cell_type": "markdown",
   "metadata": {},
   "source": [
    "## Task 1. k-nearest neighbors algorithm (KNN)  "
   ]
  },
  {
   "cell_type": "markdown",
   "metadata": {},
   "source": [
    "#### 1. Load Dataset [1 point]"
   ]
  },
  {
   "cell_type": "markdown",
   "metadata": {},
   "source": [
    "- Load the csv file,'final_shuffled_breast_cancer100.csv' as `df`"
   ]
  },
  {
   "cell_type": "code",
   "execution_count": 2,
   "metadata": {},
   "outputs": [],
   "source": [
    "df = pd.read_csv(\"final_shuffled_breast_cancer100.csv\")"
   ]
  },
  {
   "cell_type": "markdown",
   "metadata": {},
   "source": [
    "#### 2. Split the independent variable set and the target variable set [1 point]\n",
    "- Assign `X` to the independent variable dataset\n",
    "- Assign `y` to the target variable dataset"
   ]
  },
  {
   "cell_type": "code",
   "execution_count": 3,
   "metadata": {},
   "outputs": [],
   "source": [
    "X=df.drop('target',axis=1)\n",
    "y = df['target']"
   ]
  },
  {
   "cell_type": "markdown",
   "metadata": {},
   "source": [
    "#### 3. Split Dataset into the train & testset [1 point]\n",
    "** When you use scikit-learn method to split the train & test set : \n",
    "- Set `random_state` to zero.\n",
    "- the ratio of train set and test set is as follows : 80% train set / 20% test set\n",
    "- Assign the variable names as follow : `X_train`, `X_test`, `y_train`, `y_test`"
   ]
  },
  {
   "cell_type": "code",
   "execution_count": 4,
   "metadata": {},
   "outputs": [],
   "source": [
    "X_train, X_test, y_train, y_test = train_test_split(X,y,train_size=0.8, random_state=0)"
   ]
  },
  {
   "cell_type": "markdown",
   "metadata": {},
   "source": [
    "#### 4. Load  a KNN model by scikit-learn. [1 point]\n",
    "- Assign KNN model as variable name `KNN`\n",
    "- Set the `n_neighbors` hyperparameter as 5"
   ]
  },
  {
   "cell_type": "code",
   "execution_count": 5,
   "metadata": {},
   "outputs": [],
   "source": [
    "KNN = KNeighborsClassifier(n_neighbors = 5)"
   ]
  },
  {
   "cell_type": "markdown",
   "metadata": {},
   "source": [
    "#### 5. Predict on your test set. [1 point]"
   ]
  },
  {
   "cell_type": "code",
   "execution_count": 6,
   "metadata": {},
   "outputs": [
    {
     "name": "stdout",
     "output_type": "stream",
     "text": [
      "[1. 0. 0. 1. 1. 0. 0. 0. 1. 0. 0. 1. 0. 0. 0. 1. 0. 1. 0. 1.]\n"
     ]
    }
   ],
   "source": [
    "KNN.fit(X_train,y_train)\n",
    "y_pred = KNN.predict(X_test)\n",
    "print(y_pred)"
   ]
  },
  {
   "cell_type": "code",
   "execution_count": 7,
   "metadata": {},
   "outputs": [
    {
     "name": "stdout",
     "output_type": "stream",
     "text": [
      "[[12  2]\n",
      " [ 0  6]]\n"
     ]
    }
   ],
   "source": [
    "#check conf_matrix before making cal_confusion\n",
    "\n",
    "from sklearn.metrics import confusion_matrix, classification_report\n",
    "conf_matrix = confusion_matrix(y_test, y_pred)\n",
    "print(conf_matrix)"
   ]
  },
  {
   "cell_type": "code",
   "execution_count": 8,
   "metadata": {},
   "outputs": [
    {
     "data": {
      "text/plain": [
       "20"
      ]
     },
     "execution_count": 8,
     "metadata": {},
     "output_type": "execute_result"
    }
   ],
   "source": [
    "len(y_pred)"
   ]
  },
  {
   "cell_type": "code",
   "execution_count": 9,
   "metadata": {},
   "outputs": [
    {
     "data": {
      "text/plain": [
       "20"
      ]
     },
     "execution_count": 9,
     "metadata": {},
     "output_type": "execute_result"
    }
   ],
   "source": [
    "len(y_test)"
   ]
  },
  {
   "cell_type": "markdown",
   "metadata": {},
   "source": [
    "#### 6. Evaluate the prediction result of your model. \n",
    "\n",
    "- Calculate the confusion matrix which consists of `TP`, `FP`, `TN`, `FN` (True Positive, False Positive, True Negative, False Negative)\n",
    "- Calculate `accuracy rate`, `sensitivity`, `specificity`\n",
    "- Fill in the blank function in order to accomplish the aforementioned  tasks. (DO NOT USE PACKAGES IN THIS TASK)"
   ]
  },
  {
   "cell_type": "markdown",
   "metadata": {},
   "source": [
    "#### 6.1 Calculate the confusion matrix which consists of `TP`, `FP`, `TN`, `FN` (True Positive, False Positive, True Negative, False Negative) [5 points]\n",
    "- Fill in the blank function in order to accomplish the aforementioned  tasks. (DO NOT USE PACKAGES IN THIS TASK)  "
   ]
  },
  {
   "cell_type": "code",
   "execution_count": 10,
   "metadata": {},
   "outputs": [],
   "source": [
    "def cal_confusion(y_true, y_pred): \n",
    "    TP =0\n",
    "    FP =0\n",
    "    TN = 0\n",
    "    FN = 0\n",
    "    for i in range(len(y_true)): \n",
    "        if y_true[i]==1 and y_pred[i]==1:\n",
    "            TP = TP + 1\n",
    "        if y_pred[i]==1 and y_true[i]!=y_pred[i]:\n",
    "            FP = FP + 1\n",
    "        if y_true[i]==0 and y_pred[i]==0:\n",
    "            TN = TN + 1\n",
    "        if y_pred[i]==0 and y_true[i]!=y_pred[i]:\n",
    "            FN = FN + 1\n",
    "\n",
    "    return TP, FP, TN, FN"
   ]
  },
  {
   "cell_type": "code",
   "execution_count": 11,
   "metadata": {},
   "outputs": [
    {
     "data": {
      "text/plain": [
       "(6, 2, 12, 0)"
      ]
     },
     "execution_count": 11,
     "metadata": {},
     "output_type": "execute_result"
    }
   ],
   "source": [
    "y_test = y_test.values.ravel()\n",
    "cal_confusion(y_test, y_pred)"
   ]
  },
  {
   "cell_type": "markdown",
   "metadata": {},
   "source": [
    "#### 6.2 Calculate `accuracy rate` by filling in the blank of `cal_accuracy` function. [5 points]\n",
    "- Fill in the blank function in order to accomplish the aforementioned  tasks. (DO NOT USE PACKAGES IN THIS TASK) "
   ]
  },
  {
   "cell_type": "code",
   "execution_count": 12,
   "metadata": {},
   "outputs": [],
   "source": [
    "def cal_accuracy(y_true, y_pred):\n",
    "    \n",
    "    TP =0\n",
    "    FP =0\n",
    "    TN = 0\n",
    "    FN = 0\n",
    "    for i in range(len(y_true)): \n",
    "        if y_true[i]==1 and y_pred[i]==1:\n",
    "            TP = TP + 1\n",
    "        if y_pred[i]==1 and y_true[i]!=y_pred[i]:\n",
    "            FP = FP + 1\n",
    "        if y_true[i]==0 and y_pred[i]==0:\n",
    "            TN = TN + 1\n",
    "        if y_pred[i]==0 and y_true[i]!=y_pred[i]:\n",
    "            FN = FN + 1\n",
    "            \n",
    "    accuracy = 0        \n",
    "    accuracy = (TP+TN)/ (TP+FP+TN+FN)\n",
    "   \n",
    "    return accuracy"
   ]
  },
  {
   "cell_type": "code",
   "execution_count": 13,
   "metadata": {},
   "outputs": [
    {
     "data": {
      "text/plain": [
       "0.9"
      ]
     },
     "execution_count": 13,
     "metadata": {},
     "output_type": "execute_result"
    }
   ],
   "source": [
    "cal_accuracy(y_test, y_pred)"
   ]
  },
  {
   "cell_type": "markdown",
   "metadata": {},
   "source": [
    "#### 6.3 Calculate `sensitivity` by filling in the blank of `cal_sensitivity` function. [5 points]\n",
    "- Fill in the blank function in order to accomplish the aforementioned  tasks. (DO NOT USE PACKAGES IN THIS TASK)\n",
    "\n",
    "- When it comes to the `cal_sensitivity` function, we didn't specify the exact input variables, but just include all of `TP`, `FP`, `TN`, `FN`.  You have to choose two of them and use them as the input variables of the `cal_sensitivity` function."
   ]
  },
  {
   "cell_type": "code",
   "execution_count": 14,
   "metadata": {},
   "outputs": [],
   "source": [
    "def cal_sensitivity(TP,FP,TN,FN):\n",
    "    \n",
    "            \n",
    "    sensitivity = 0        \n",
    "    sensitivity = (TP)/ (TP+FN)\n",
    "   \n",
    "    return sensitivity"
   ]
  },
  {
   "cell_type": "code",
   "execution_count": 15,
   "metadata": {},
   "outputs": [
    {
     "data": {
      "text/plain": [
       "1.0"
      ]
     },
     "execution_count": 15,
     "metadata": {},
     "output_type": "execute_result"
    }
   ],
   "source": [
    "cal_sensitivity(6,2,12,0)"
   ]
  },
  {
   "cell_type": "markdown",
   "metadata": {},
   "source": [
    "#### 6.4 Calculate `specificity` by filling in the blank of `cal_specificity` function. [5 points]\n",
    "- Fill in the blank function in order to accomplish the aforementioned  tasks. (DO NOT USE PACKAGES IN THIS TASK)\n",
    "\n",
    "- When it comes to the `cal_specificity` function, we didn't specify the exact input variables, but just include all of `TP`, `FP`, `TN`, `FN`.  You have to choose two of them and use them as the input variables of the `cal_specificity` function."
   ]
  },
  {
   "cell_type": "code",
   "execution_count": 16,
   "metadata": {},
   "outputs": [],
   "source": [
    "def cal_specificity(TP,FP,TN,FN):\n",
    "    \n",
    "    specificity=0\n",
    "    specificity= (TN)/(TN+FP)\n",
    "    \n",
    "\n",
    "    return specificity"
   ]
  },
  {
   "cell_type": "code",
   "execution_count": 17,
   "metadata": {},
   "outputs": [
    {
     "data": {
      "text/plain": [
       "0.8571428571428571"
      ]
     },
     "execution_count": 17,
     "metadata": {},
     "output_type": "execute_result"
    }
   ],
   "source": [
    "cal_specificity(6,2,12,0)"
   ]
  },
  {
   "cell_type": "markdown",
   "metadata": {},
   "source": [
    "#### 6.5 Print all of the results [1 point]"
   ]
  },
  {
   "cell_type": "markdown",
   "metadata": {},
   "source": [
    "- print all of the results (confusion matrix, accuracy , sensitivity, specificity) \n",
    "- fill in the below `print` function by your own results"
   ]
  },
  {
   "cell_type": "code",
   "execution_count": 18,
   "metadata": {},
   "outputs": [
    {
     "name": "stdout",
     "output_type": "stream",
     "text": [
      "confusion matrix:  (6, 2, 12, 0)\n",
      "accuracy:  0.9\n",
      "sensitivity:  1.0\n",
      "specificity:  0.8571428571428571\n"
     ]
    }
   ],
   "source": [
    "TP = cal_confusion(y_test,y_pred)[0]\n",
    "FP = cal_confusion(y_test,y_pred)[1]\n",
    "TN = cal_confusion(y_test,y_pred)[2]\n",
    "FN = cal_confusion(y_test,y_pred)[3]\n",
    "\n",
    "                     \n",
    "print('confusion matrix: ', cal_confusion(y_test, y_pred)   )\n",
    "print('accuracy: ',    cal_accuracy(y_test, y_pred)         )\n",
    "print('sensitivity: ', cal_sensitivity(TP, FP, TN, FN)      )\n",
    "print('specificity: ', cal_specificity(TP, FP, TN, FN)      )"
   ]
  },
  {
   "cell_type": "markdown",
   "metadata": {},
   "source": [
    "#### 6.6 Plot accuracy results as you change the K values. [3 points]\n",
    "- Plot the accuracy results from changing the number of K = (1,2,3,4,5,10) "
   ]
  },
  {
   "cell_type": "code",
   "execution_count": 19,
   "metadata": {},
   "outputs": [
    {
     "name": "stdout",
     "output_type": "stream",
     "text": [
      "[0.95, 1.0, 0.9, 0.9, 0.9, 0.9]\n"
     ]
    }
   ],
   "source": [
    "k_range = [1,2,3,4,5,10]\n",
    "accuracy = []\n",
    "\n",
    "for k in k_range:\n",
    "    knn = KNeighborsClassifier(n_neighbors=k)\n",
    "    knn.fit(X_train, y_train)\n",
    "    y_pred = knn.predict(X_test)\n",
    "    accuracy.append(cal_accuracy(y_test, y_pred))\n",
    "    \n",
    "print(accuracy)"
   ]
  },
  {
   "cell_type": "code",
   "execution_count": 20,
   "metadata": {},
   "outputs": [
    {
     "data": {
      "image/png": "[encoded data removed]",
      "text/plain": [
       "<Figure size 432x288 with 1 Axes>"
      ]
     },
     "metadata": {
      "needs_background": "light"
     },
     "output_type": "display_data"
    }
   ],
   "source": [
    "plt.plot(k_range, accuracy)\n",
    "plt.xlabel('Value of K for KNN')\n",
    "plt.ylabel('Accuracy')\n",
    "val=[1,2,3,4,5,10]\n",
    "plt.xticks(val)\n",
    "plt.show()\n",
    "\n",
    "# at this case k = 2 is highest accuracy!"
   ]
  }
 ],
 "metadata": {
  "kernelspec": {
   "display_name": "Python 3 (ipykernel)",
   "language": "python",
   "name": "python3"
  },
  "language_info": {
   "codemirror_mode": {
    "name": "ipython",
    "version": 3
   },
   "file_extension": ".py",
   "mimetype": "text/x-python",
   "name": "python",
   "nbconvert_exporter": "python",
   "pygments_lexer": "ipython3",
   "version": "3.9.7"
  }
 },
 "nbformat": 4,
 "nbformat_minor": 4
}
