{
 "cells": [
  {
   "cell_type": "markdown",
   "metadata": {},
   "source": [
    "$\\textbf{20161190_TheoreticalHW4_leeminjae}$\n",
    "\n",
    "# Exercise 1"
   ]
  },
  {
   "cell_type": "markdown",
   "metadata": {},
   "source": [
    "## 1.1\n",
    "\n",
    "$\\textbf{Probability}$ : To find value about some event occur when given distribution. At countable event, probability value is same with likelihood value. But at uncountable event, probability is not same with likelihood.\n",
    "\n",
    "$\\textbf{Likelihood}$ : To find appropriate distribution when given fixed value. At countable event, likelihood value is same with probability value. And at uncountable event, likelihood value is same with probability density function value."
   ]
  },
  {
   "cell_type": "markdown",
   "metadata": {},
   "source": [
    "## 1.2\n",
    "\n",
    "$\\textbf{Difference between Sampling and Resampling}$: Sampling is the extraction from a population. Sameple is not perfectly same with population. So there are some noise. Resampling is to extract a subset of samples from the sample that I have already. Therefore, the same sample is used several times to measure performance.\n",
    "\n",
    "$\\textbf{Advantage does Resampling}$: Resampling can improve accuracy. Using limited data several times so solve the problem than imbalanced data. Also resampling need fewer assumption. For example, there are bootstrapping, k-fold and so on.\n",
    "\n",
    "<br>"
   ]
  },
  {
   "cell_type": "markdown",
   "metadata": {},
   "source": [
    "# Exercise 2"
   ]
  },
  {
   "cell_type": "markdown",
   "metadata": {},
   "source": [
    "## 2.1\n"
   ]
  },
  {
   "cell_type": "markdown",
   "metadata": {},
   "source": [
    "At our ppt slide, logistic regression <br>\n",
    "\n",
    "$\\frac{odds(X+1)}{odds(X)} = e^\\beta$,$\\quad$ $odds = \\frac{P(Y=1)}{1-P(Y=1)}$\n",
    "\n",
    "we know the $\\beta$ value -0.0003 so we can calculate\n",
    "\n",
    "$\\frac{odds(X+1)}{odds(X)} = e^\\beta = e^{-0.0003} = 0.9997$ <br><br>\n",
    "\n",
    "so we can think that <br>\n",
    "$Odds(X+1) = 0.9997 \\times Odd(X)$\n",
    "\n",
    "this mean $\\textbf{Virginica}$ is more probable than $\\textbf{Versicolor}$ <br><br>\n",
    "\n",
    "So our Interpretaion is\n",
    "\n",
    "$\\therefore \\textbf{Species 𝐕𝐢𝐫𝐠𝐢𝐧𝐢𝐜𝐚 is 1.0003 times more probable than Species 𝐕𝐞𝐫𝐬𝐢𝐜𝐨𝐥𝐨𝐫  when the length\n",
    "of sepals Increase}$\n"
   ]
  },
  {
   "cell_type": "markdown",
   "metadata": {},
   "source": [
    "## 2.2"
   ]
  },
  {
   "cell_type": "markdown",
   "metadata": {},
   "source": [
    "$P(Y = 1) = \\frac{exp(X\\beta)}{1+exp(X\\beta)}, \\quad  1-P(Y = 1) = \\frac{1}{1+exp(X\\beta)}$ <br><br>\n",
    "\n",
    "$log(\\frac{P(Y = 1)}{1-P(Y = 1)}) = X\\beta = \\beta_0 + \\beta_1 X_1+ \\beta_2 X_2+ ...  + \\beta_p X_p$, $\\quad$ ($\\beta_0 = 42.6$)\n",
    "\n",
    "$X_1\\beta = \\beta_0 + (-0.0003\\times6.4) + (6.7\\times3.1) + (-9.4\\times4.3) + (-18.3\\times1.3) =  - 0.84192$\n",
    "$X_2\\beta = \\beta_0 + (-0.0003\\times6.9) + (6.7\\times3.0) + (-9.4\\times3.9) + (-18.3\\times1.4) =   0.41793$ <br><br>\n",
    "\n",
    "$P(Y_1 = 1|x_1) = \\frac{e^{-0.84192}}{1+e^{-0.84192}} = 0.30113$ <br>\n",
    "$P(Y_1 = 0|x_1) = 1-0.30113 =0.69887$ <br>\n",
    "$P(Y_2 = 1|x_2) = \\frac{e^{0.41793}}{1+e^{0.41793}} = 0.603 $ <br>\n",
    "$P(Y_2 = 0|x_2) = 1-0.6030 = 0.3970$ <br><br>\n",
    "\n",
    "Above the result, <br>\n",
    "$\\therefore $ $\\textbf{x1 is Virginica and X2 is Versicolor!}$ <br><br>"
   ]
  },
  {
   "cell_type": "markdown",
   "metadata": {},
   "source": [
    "# Exercise 3"
   ]
  },
  {
   "cell_type": "markdown",
   "metadata": {},
   "source": [
    "## 3.1"
   ]
  },
  {
   "cell_type": "markdown",
   "metadata": {},
   "source": [
    "$K(x,z) = (x^Tz)^2 = x_1^2z_1^2 +2x_1x_2z_1z_2+x_2^2z_2^2 $ $\\quad$ $x = (x_1,x_2), z = (z_1,z_2)$\n",
    "\n",
    "$K(x,z) = \\phi(x)^T\\phi(z)$\n",
    "\n",
    "So we can know that \n",
    "\n",
    "$\\phi(x)$ = \n",
    "$\\begin{bmatrix}\n",
    "\\ x_1^2 \\\\\n",
    "\\ \\sqrt{2}x_1x_2 \\\\\n",
    "\\ x_2^2 \\\\\n",
    "\\end{bmatrix}$,\n",
    "$\\quad$\n",
    "$\\phi(z)$ = \n",
    "$\\begin{bmatrix}\n",
    "\\ z_1^2 \\\\\n",
    "\\ \\sqrt{2}z_1z_2 \\\\\n",
    "\\ z_2^2 \\\\\n",
    "\\end{bmatrix}$ <br><br>"
   ]
  },
  {
   "cell_type": "markdown",
   "metadata": {},
   "source": [
    "## 3.2"
   ]
  },
  {
   "cell_type": "markdown",
   "metadata": {},
   "source": [
    "We get the formaula $\\phi(x)$ at 3.1 so input $x_1,x_2,x_3$ value.\n",
    "\n",
    "$\\phi(x)$ = \n",
    "$\\begin{bmatrix}\n",
    " x_1^2 \\\\\n",
    " \\sqrt{2}x_1x_2 \\\\\n",
    " x_2^2 \\\\\n",
    "\\end{bmatrix}$ \n",
    "\n",
    "<br>\n",
    "\n",
    "$x_1 = (1,2)$ $\\quad$\n",
    "$\\phi(x_1) = $\n",
    "$\\begin{bmatrix}\n",
    "1 \\\\\n",
    "2 \\\\\n",
    "4 \\\\\n",
    "\\end{bmatrix}$\n",
    "<br><br>\n",
    "\n",
    "$x_2 = (4,3)$ $\\quad$\n",
    "$\\phi(x_2) = $\n",
    "$\\begin{bmatrix}\n",
    "\\ 16 \\\\\n",
    "\\ 12\\sqrt{2} \\\\\n",
    "\\ 9 \\\\\n",
    "\\end{bmatrix}$\n",
    "<br><br>\n",
    "\n",
    "$x_3 = (2,0)$ $\\quad$\n",
    "$\\phi(x_3) = $\n",
    "$\\begin{bmatrix}\n",
    "\\ 4 \\\\\n",
    "\\ 0 \\\\\n",
    "\\ 0 \\\\\n",
    "\\end{bmatrix}$\n",
    "<br><br>"
   ]
  },
  {
   "cell_type": "markdown",
   "metadata": {},
   "source": [
    "## 3.3"
   ]
  },
  {
   "cell_type": "markdown",
   "metadata": {},
   "source": [
    "$K = $\n",
    "$\\begin{bmatrix}\n",
    "K(x1,x1) & K(x1,x2) & K(x1,x3) \\\\\n",
    "K(x2,x1) & K(x2,x2) & K(x2,x3) \\\\\n",
    "K(x3,x1) & K(x3,x2) & K(x3,x3) \\\\\n",
    "\\end{bmatrix}$ <br><br>\n",
    "\n",
    "We can calculate by $K(x_i,x_j) = \\phi(x_i)^T\\phi(x_j)$. So,\n",
    "\n",
    "$K(x1,x1) = 25$ <br>\n",
    "$K(x1,x2) = K(x2,x1) = 100$ <br>\n",
    "$K(x1,x3) = K(x3,x1) = 4$ <br>\n",
    "$K(x2,x2) = 625$ <br>\n",
    "$K(x2,x3) = K(x3,x2) = 64$ <br>\n",
    "$K(x3,x3) = 16$ <br><br>\n",
    "\n",
    "$ \\therefore K = $\n",
    "$\\begin{bmatrix}\n",
    "25 & 100 & 4 \\\\\n",
    "100 & 625 & 64 \\\\\n",
    "4 & 64 & 16 \\\\\n",
    "\\end{bmatrix}$ \n",
    "\n",
    "<br><br>"
   ]
  },
  {
   "cell_type": "markdown",
   "metadata": {},
   "source": [
    "# Exercise 4"
   ]
  },
  {
   "cell_type": "markdown",
   "metadata": {},
   "source": [
    "## 4.1"
   ]
  },
  {
   "cell_type": "markdown",
   "metadata": {},
   "source": [
    "by definition of naive bayes, we can say\n",
    "\n",
    "$P(y=A|X1 = a,X2=b) = \\frac{(P(X1=a|y=A)\\times P(X2=b|y=A))\\times P(y=A)}{P(X1 = a)\\times P(X2 = b)} $  <br><br>\n",
    "\n",
    "$P(X1=a|y=A) = \\frac{1}{2} $, $\\quad$ $P(X1 = a) = \\frac{3}{7} $ <br>\n",
    "$P(X2=b|y=A) = \\frac{1}{2} $, $\\quad$ $P(X2 = b) = \\frac{4}{7} $ <br>\n",
    "$P(y=A) = \\frac{4}{7} $ <br><br>\n",
    "\n",
    "$ \\therefore P(y=A|X1 = a,X2=b) = \\frac{7}{12}$"
   ]
  },
  {
   "cell_type": "markdown",
   "metadata": {},
   "source": [
    "## 4.2"
   ]
  },
  {
   "cell_type": "markdown",
   "metadata": {},
   "source": [
    "To determine whether A or B, I calculate for each case. y = A and y = B <br>\n",
    "\n",
    "$P(y=A|X1 = a,X2= b,x3= b) = \\frac{(P(X1=a|y=A)\\times P(X2=b|y=A) \\times P(X3=b|y=A)) \\times P(y=A)}{P(X1 = a)\\times P(X2 = b)\\times P(X3 = b)}$\n",
    "\n",
    "$P(X1=a|y=A) = \\frac{1}{2} $, $\\quad$ $P(X1 = a) = \\frac{3}{7} $ <br>\n",
    "$P(X2=b|y=A) = \\frac{1}{2} $, $\\quad$ $P(X2 = b) = \\frac{4}{7} $ <br>\n",
    "$P(X3=b|y=A) = \\frac{1}{2} $, $\\quad$ $P(X3 = b) = \\frac{3}{7} $ <br>\n",
    "$P(y=A) = \\frac{4}{7} $ <br>\n",
    "\n",
    "$\\therefore P(y=A|X1 = a,X2= b,x3= b) = \\frac{49}{72}$ <br><br>\n",
    "\n",
    "\n",
    "$P(y=B|X1 = a,X2= b,x3= b) = \\frac{(P(X1=a|y=B)\\times P(X2=b|y=B) \\times P(X3=b|y=B)) \\times P(y=B)}{P(X1 = a)\\times P(X2 = b)\\times P(X3 = b)}$\n",
    "\n",
    "$P(X1=a|y=B) = \\frac{1}{3} $, $\\quad$ $P(X1 = a) = \\frac{3}{7} $ <br>\n",
    "$P(X2=b|y=B) = \\frac{2}{3} $, $\\quad$ $P(X2 = b) = \\frac{4}{7} $ <br>\n",
    "$P(X3=b|y=B) = \\frac{1}{3} $, $\\quad$ $P(X3 = b) = \\frac{3}{7} $ <br>\n",
    "$P(y=B) = \\frac{3}{7} $ <br>\n",
    "\n",
    "$\\therefore P(y=B|X1 = a,X2= b,x3= b) = \\frac{49}{162}$ <br><br>\n",
    "\n",
    "Because P(y=A|X1 = a,X2= b,x3= b) is higher than P(y=B|X1 = a,X2= b,x3= b), <br>\n",
    "\n",
    "$\\therefore$ $\\textbf{The new data being assigned to Class B.}$"
   ]
  },
  {
   "cell_type": "markdown",
   "metadata": {},
   "source": [
    "# Exercise 5"
   ]
  },
  {
   "cell_type": "markdown",
   "metadata": {},
   "source": [
    "Because This problem is 10 points on final, I prepared a conceptual question that can be solved quickly. <br>\n",
    "By using given dataset find the values!  -ve point A(-1,1), B(1,3) /  +ve C(-4,2). <br>\n",
    "Exercise 5.1 Find kernel matrix K (2pt) <br>\n",
    "Exercise 5.2 Find $\\alpha_1, \\alpha_2, \\alpha_3$ and $b$ (2pt) <br>\n",
    "Exercise 5.3 Find $w$ and hyperplane equation. (3pt) <br>\n",
    "Exercise 5.4 Prove margin and find margin  (3pt)"
   ]
  },
  {
   "cell_type": "markdown",
   "metadata": {},
   "source": [
    "## 5.1"
   ]
  },
  {
   "cell_type": "markdown",
   "metadata": {},
   "source": [
    "$K = $\n",
    "$\\begin{bmatrix}\n",
    "K(A,A) & K(A,B) & K(A,C) \\\\\n",
    "K(B,A) & K(B,B) & K(B,C) \\\\\n",
    "K(C,A) & K(C,B) & K(C,C) \\\\\n",
    "\\end{bmatrix}$ <br><br>\n",
    "\n",
    "We can calculate by $K(x_i,x_j) = \\phi(x_i)^T\\phi(x_j)$. So,\n",
    "\n",
    "$K(A,A) = 2$ <br>\n",
    "$K(A,B) = K(B,A) = 2$ <br>\n",
    "$K(A,C) = K(C,A) = 6$ <br>\n",
    "$K(B,B) = 10$ <br>\n",
    "$K(B,C) = K(C,B) = -2$ <br>\n",
    "$K(C,C) = 20$ <br><br>\n",
    "\n",
    "$ \\therefore K = $\n",
    "$\\begin{bmatrix}\n",
    "2 & 2 & 6 \\\\\n",
    "2 & 10 & -2 \\\\\n",
    "-6 & -2 & 20 \\\\\n",
    "\\end{bmatrix}$ \n",
    "\n",
    "<br>"
   ]
  },
  {
   "cell_type": "markdown",
   "metadata": {},
   "source": [
    "## 5.2"
   ]
  },
  {
   "cell_type": "markdown",
   "metadata": {},
   "source": [
    "$\\Sigma \\alpha_iy_i = 0$ <br>\n",
    "\n",
    "$\\Sigma \\alpha_iy_iK(x_i,x) + b = 1$ <br>\n",
    "\n",
    "$\\Sigma \\alpha_iy_iK(x_i,x) + b = -1$ <br><br>\n",
    "\n",
    "so we can set this! \n",
    "\n",
    "$-\\alpha_1 -\\alpha_2 +\\alpha_3 = 0$ \n",
    "\n",
    "$-2\\alpha_1 -2\\alpha_2 -6\\alpha_3 + b = -1$ \n",
    "\n",
    "$-2\\alpha_1 -10\\alpha_2 -2\\alpha_3 +b = -1$ \n",
    "\n",
    "$6\\alpha_1 + 2\\alpha_2 +20\\alpha_3 + b = 1$  <br><br>\n",
    "\n",
    "solving system of equation <br>\n",
    "$\\therefore$ $\\alpha_1= \\frac{1}{32}$ $\\quad$ $\\alpha_2= \\frac{1}{32}$ $\\quad$  $\\alpha_3= \\frac{1}{16}$  $\\quad$  $b = -\\frac{1}{2} $\n",
    "\n",
    "<br>"
   ]
  },
  {
   "cell_type": "markdown",
   "metadata": {},
   "source": [
    "## 5.3"
   ]
  },
  {
   "cell_type": "markdown",
   "metadata": {},
   "source": [
    "$W = \\Sigma \\alpha_iy_i x_i =  -\\frac{1}{32}$\n",
    "$\\begin{bmatrix}\n",
    "\\ -1 \\\\\n",
    "\\ 1 \\\\\n",
    "\\end{bmatrix}$\n",
    "$-\\frac{1}{32}$\n",
    "$\\begin{bmatrix}\n",
    "\\ 1 \\\\\n",
    "\\ 3 \\\\\n",
    "\\end{bmatrix}$ $-$\n",
    "$\\frac{1}{16}$\n",
    "$\\begin{bmatrix}\n",
    "\\ 4 \\\\\n",
    "\\ -2 \\\\\n",
    "\\end{bmatrix}$ $=$\n",
    "$\\begin{bmatrix}\n",
    "\\ \\frac{1}{4} \\\\\n",
    "\\ -\\frac{1}{4} \\\\\n",
    "\\end{bmatrix}$\n",
    "\n",
    "\n",
    "$Wx + b = 0$ <br>\n",
    "$\\therefore$ hyperplane equation is $ x_1 - x_2 - 2 = 0$, $\\quad$ \n",
    "$W =$\n",
    "$\\begin{bmatrix}\n",
    "\\ \\frac{1}{4} \\\\\n",
    "\\ -\\frac{1}{4} \\\\\n",
    "\\end{bmatrix}$"
   ]
  },
  {
   "cell_type": "markdown",
   "metadata": {},
   "source": [
    "## 5.4"
   ]
  },
  {
   "cell_type": "markdown",
   "metadata": {},
   "source": [
    "we know, $x^+ = x^- +\\lambda w$ <br>\n",
    "\n",
    "$w^Tx^+ +b = w^T(x^- +\\lambda w)+ +b = 1$\n",
    "\n",
    "$w^Tx^- + b + \\lambda w^T w  = 1$\n",
    "\n",
    "$\\lambda = \\frac{2}{w^T }$ <br>\n",
    "\n",
    "we know, Margin $ = ||x^+ -x^-||_2$ <br>\n",
    "\n",
    "$ = || x^- +\\lambda w + -x^-||_2$ $ = ||\\lambda w||_2$\n",
    "\n",
    "$ = \\lambda \\sqrt{w^Tw}$ $ = \\frac{2}{\\sqrt{w^Tw}}$ $ = \\frac{2}{||w||_2}$  <br><br>\n",
    "\n",
    "$\\therefore$ Margin $ = \\frac{2}{||w||_2}$\n",
    "\n",
    "our \n",
    "$W =$\n",
    "$\\begin{bmatrix}\n",
    "\\ \\frac{1}{4} \\\\\n",
    "\\ -\\frac{1}{4} \\\\\n",
    "\\end{bmatrix}$\n",
    "\n",
    "so, Margin = $4\\sqrt{2}$"
   ]
  }
 ],
 "metadata": {
  "kernelspec": {
   "display_name": "Python 3",
   "language": "python",
   "name": "python3"
  },
  "language_info": {
   "codemirror_mode": {
    "name": "ipython",
    "version": 3
   },
   "file_extension": ".py",
   "mimetype": "text/x-python",
   "name": "python",
   "nbconvert_exporter": "python",
   "pygments_lexer": "ipython3",
   "version": "3.8.5"
  }
 },
 "nbformat": 4,
 "nbformat_minor": 4
}
