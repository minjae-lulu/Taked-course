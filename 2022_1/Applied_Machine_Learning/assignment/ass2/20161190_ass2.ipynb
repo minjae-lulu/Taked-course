{
 "cells": [
  {
   "cell_type": "code",
   "execution_count": 1,
   "metadata": {},
   "outputs": [],
   "source": [
    "import numpy as np\n",
    "import pandas as pd\n",
    "import warnings\n",
    "warnings.filterwarnings('ignore')\n",
    "from tqdm import tqdm\n",
    "from sklearn.model_selection import train_test_split\n",
    "from sklearn.metrics import confusion_matrix"
   ]
  },
  {
   "cell_type": "code",
   "execution_count": 2,
   "metadata": {},
   "outputs": [
    {
     "name": "stdout",
     "output_type": "stream",
     "text": [
      "<class 'pandas.core.frame.DataFrame'>\n",
      "RangeIndex: 767 entries, 0 to 766\n",
      "Data columns (total 9 columns):\n",
      " #   Column                      Non-Null Count  Dtype  \n",
      "---  ------                      --------------  -----  \n",
      " 0   pregnancies                 767 non-null    int64  \n",
      " 1   glucose                     767 non-null    int64  \n",
      " 2   blood_pressure              767 non-null    int64  \n",
      " 3   skin_thickness              767 non-null    int64  \n",
      " 4   insulin                     767 non-null    int64  \n",
      " 5   bmi                         767 non-null    float64\n",
      " 6   Diabetes_Pedigree_Function  767 non-null    float64\n",
      " 7   age                         767 non-null    int64  \n",
      " 8   class                       767 non-null    int64  \n",
      "dtypes: float64(2), int64(7)\n",
      "memory usage: 54.1 KB\n"
     ]
    }
   ],
   "source": [
    "# load .csv file and set X and y(class). and check the information\n",
    "\n",
    "df = pd.read_csv(\"pima-indians-diabetes.csv\")\n",
    "df.columns = [\"pregnancies\", \"glucose\", \"blood_pressure\", \"skin_thickness\",\"insulin\",\"bmi\",\"Diabetes_Pedigree_Function\",\"age\",\"class\"]\n",
    "X = df.loc[:,'pregnancies':'age']\n",
    "y = df['class']\n",
    "\n",
    "df.info()"
   ]
  },
  {
   "cell_type": "code",
   "execution_count": 3,
   "metadata": {},
   "outputs": [
    {
     "data": {
      "text/html": [
       "<div>\n",
       "<style scoped>\n",
       "    .dataframe tbody tr th:only-of-type {\n",
       "        vertical-align: middle;\n",
       "    }\n",
       "\n",
       "    .dataframe tbody tr th {\n",
       "        vertical-align: top;\n",
       "    }\n",
       "\n",
       "    .dataframe thead th {\n",
       "        text-align: right;\n",
       "    }\n",
       "</style>\n",
       "<table border=\"1\" class=\"dataframe\">\n",
       "  <thead>\n",
       "    <tr style=\"text-align: right;\">\n",
       "      <th></th>\n",
       "      <th>pregnancies</th>\n",
       "      <th>glucose</th>\n",
       "      <th>blood_pressure</th>\n",
       "      <th>skin_thickness</th>\n",
       "      <th>insulin</th>\n",
       "      <th>bmi</th>\n",
       "      <th>Diabetes_Pedigree_Function</th>\n",
       "      <th>age</th>\n",
       "      <th>class</th>\n",
       "    </tr>\n",
       "  </thead>\n",
       "  <tbody>\n",
       "    <tr>\n",
       "      <th>0</th>\n",
       "      <td>1</td>\n",
       "      <td>85.0</td>\n",
       "      <td>66.0</td>\n",
       "      <td>29.000000</td>\n",
       "      <td>79.90352</td>\n",
       "      <td>26.6</td>\n",
       "      <td>0.351</td>\n",
       "      <td>31</td>\n",
       "      <td>0</td>\n",
       "    </tr>\n",
       "    <tr>\n",
       "      <th>1</th>\n",
       "      <td>8</td>\n",
       "      <td>183.0</td>\n",
       "      <td>64.0</td>\n",
       "      <td>20.517601</td>\n",
       "      <td>79.90352</td>\n",
       "      <td>23.3</td>\n",
       "      <td>0.672</td>\n",
       "      <td>32</td>\n",
       "      <td>1</td>\n",
       "    </tr>\n",
       "    <tr>\n",
       "      <th>2</th>\n",
       "      <td>1</td>\n",
       "      <td>89.0</td>\n",
       "      <td>66.0</td>\n",
       "      <td>23.000000</td>\n",
       "      <td>94.00000</td>\n",
       "      <td>28.1</td>\n",
       "      <td>0.167</td>\n",
       "      <td>21</td>\n",
       "      <td>0</td>\n",
       "    </tr>\n",
       "    <tr>\n",
       "      <th>3</th>\n",
       "      <td>0</td>\n",
       "      <td>137.0</td>\n",
       "      <td>40.0</td>\n",
       "      <td>35.000000</td>\n",
       "      <td>168.00000</td>\n",
       "      <td>43.1</td>\n",
       "      <td>2.288</td>\n",
       "      <td>33</td>\n",
       "      <td>1</td>\n",
       "    </tr>\n",
       "    <tr>\n",
       "      <th>4</th>\n",
       "      <td>5</td>\n",
       "      <td>116.0</td>\n",
       "      <td>74.0</td>\n",
       "      <td>20.517601</td>\n",
       "      <td>79.90352</td>\n",
       "      <td>25.6</td>\n",
       "      <td>0.201</td>\n",
       "      <td>30</td>\n",
       "      <td>0</td>\n",
       "    </tr>\n",
       "  </tbody>\n",
       "</table>\n",
       "</div>"
      ],
      "text/plain": [
       "   pregnancies  glucose  blood_pressure  skin_thickness    insulin   bmi  \\\n",
       "0            1     85.0            66.0       29.000000   79.90352  26.6   \n",
       "1            8    183.0            64.0       20.517601   79.90352  23.3   \n",
       "2            1     89.0            66.0       23.000000   94.00000  28.1   \n",
       "3            0    137.0            40.0       35.000000  168.00000  43.1   \n",
       "4            5    116.0            74.0       20.517601   79.90352  25.6   \n",
       "\n",
       "   Diabetes_Pedigree_Function  age  class  \n",
       "0                       0.351   31      0  \n",
       "1                       0.672   32      1  \n",
       "2                       0.167   21      0  \n",
       "3                       2.288   33      1  \n",
       "4                       0.201   30      0  "
      ]
     },
     "execution_count": 3,
     "metadata": {},
     "output_type": "execute_result"
    }
   ],
   "source": [
    "# 0 mean a missing value, so it is changed to a Nan value and then changed to an average value. \n",
    "# (The number of pregnancies can actually be zero, so it was excluded from the process of changing to the Nan value.)\n",
    "\n",
    "temp = df.loc[:,'glucose':'age']\n",
    "temp = temp.replace(0, np.NaN)\n",
    "temp = temp.fillna(df.mean())\n",
    "X = pd.concat([df.loc[:,'pregnancies':'pregnancies'], temp],axis=1)\n",
    "df = pd.concat([X, y],axis=1)\n",
    "df.head()"
   ]
  },
  {
   "cell_type": "code",
   "execution_count": 4,
   "metadata": {},
   "outputs": [],
   "source": [
    "# preprocessing dataset to small value\n",
    "def pre(X, split_range):\n",
    "    new_df = []\n",
    "    n = len(split_range)\n",
    "    for i in range(n): # 0~7\n",
    "        cnt = np.arange(0,split_range[i])\n",
    "        temp = pd.cut(X.iloc[:,i], split_range[i], labels=cnt)\n",
    "        new_df.append(temp)\n",
    "    \n",
    "    new_df = np.array(new_df).T\n",
    "    new_df = pd.DataFrame(new_df)\n",
    "    new_df.columns = [\"pregnancies\", \"glucose\", \"blood_pressure\", \"skin_thickness\",\"insulin\",\"bmi\",\"Diabetes_Pedigree_Function\",\"age\"]\n",
    "    return new_df\n"
   ]
  },
  {
   "cell_type": "code",
   "execution_count": 5,
   "metadata": {},
   "outputs": [],
   "source": [
    "split_range = [4,5,4,3,2,5,4,5]\n",
    "X_pred = pre(X, split_range)"
   ]
  },
  {
   "cell_type": "code",
   "execution_count": 6,
   "metadata": {},
   "outputs": [
    {
     "data": {
      "text/html": [
       "<div>\n",
       "<style scoped>\n",
       "    .dataframe tbody tr th:only-of-type {\n",
       "        vertical-align: middle;\n",
       "    }\n",
       "\n",
       "    .dataframe tbody tr th {\n",
       "        vertical-align: top;\n",
       "    }\n",
       "\n",
       "    .dataframe thead th {\n",
       "        text-align: right;\n",
       "    }\n",
       "</style>\n",
       "<table border=\"1\" class=\"dataframe\">\n",
       "  <thead>\n",
       "    <tr style=\"text-align: right;\">\n",
       "      <th></th>\n",
       "      <th>pregnancies</th>\n",
       "      <th>glucose</th>\n",
       "      <th>blood_pressure</th>\n",
       "      <th>skin_thickness</th>\n",
       "      <th>insulin</th>\n",
       "      <th>bmi</th>\n",
       "      <th>Diabetes_Pedigree_Function</th>\n",
       "      <th>age</th>\n",
       "      <th>class</th>\n",
       "    </tr>\n",
       "  </thead>\n",
       "  <tbody>\n",
       "    <tr>\n",
       "      <th>0</th>\n",
       "      <td>0</td>\n",
       "      <td>1</td>\n",
       "      <td>1</td>\n",
       "      <td>0</td>\n",
       "      <td>0</td>\n",
       "      <td>0</td>\n",
       "      <td>0</td>\n",
       "      <td>0</td>\n",
       "      <td>0</td>\n",
       "    </tr>\n",
       "    <tr>\n",
       "      <th>1</th>\n",
       "      <td>1</td>\n",
       "      <td>4</td>\n",
       "      <td>1</td>\n",
       "      <td>0</td>\n",
       "      <td>0</td>\n",
       "      <td>0</td>\n",
       "      <td>1</td>\n",
       "      <td>0</td>\n",
       "      <td>1</td>\n",
       "    </tr>\n",
       "    <tr>\n",
       "      <th>2</th>\n",
       "      <td>0</td>\n",
       "      <td>1</td>\n",
       "      <td>1</td>\n",
       "      <td>0</td>\n",
       "      <td>0</td>\n",
       "      <td>1</td>\n",
       "      <td>0</td>\n",
       "      <td>0</td>\n",
       "      <td>0</td>\n",
       "    </tr>\n",
       "    <tr>\n",
       "      <th>3</th>\n",
       "      <td>0</td>\n",
       "      <td>2</td>\n",
       "      <td>0</td>\n",
       "      <td>0</td>\n",
       "      <td>0</td>\n",
       "      <td>2</td>\n",
       "      <td>3</td>\n",
       "      <td>0</td>\n",
       "      <td>1</td>\n",
       "    </tr>\n",
       "    <tr>\n",
       "      <th>4</th>\n",
       "      <td>1</td>\n",
       "      <td>2</td>\n",
       "      <td>2</td>\n",
       "      <td>0</td>\n",
       "      <td>0</td>\n",
       "      <td>0</td>\n",
       "      <td>0</td>\n",
       "      <td>0</td>\n",
       "      <td>0</td>\n",
       "    </tr>\n",
       "  </tbody>\n",
       "</table>\n",
       "</div>"
      ],
      "text/plain": [
       "   pregnancies  glucose  blood_pressure  skin_thickness  insulin  bmi  \\\n",
       "0            0        1               1               0        0    0   \n",
       "1            1        4               1               0        0    0   \n",
       "2            0        1               1               0        0    1   \n",
       "3            0        2               0               0        0    2   \n",
       "4            1        2               2               0        0    0   \n",
       "\n",
       "   Diabetes_Pedigree_Function  age  class  \n",
       "0                           0    0      0  \n",
       "1                           1    0      1  \n",
       "2                           0    0      0  \n",
       "3                           3    0      1  \n",
       "4                           0    0      0  "
      ]
     },
     "execution_count": 6,
     "metadata": {},
     "output_type": "execute_result"
    }
   ],
   "source": [
    "df = pd.concat([X_pred, y],axis=1)\n",
    "df.head()"
   ]
  },
  {
   "cell_type": "code",
   "execution_count": 7,
   "metadata": {},
   "outputs": [],
   "source": [
    "# divide train set, test set 80% and 20%\n",
    "X_train, X_test, y_train, y_test = train_test_split(X_pred, y, test_size=0.2, shuffle=True, stratify=y, random_state=0)"
   ]
  },
  {
   "cell_type": "code",
   "execution_count": 8,
   "metadata": {},
   "outputs": [],
   "source": [
    "# counter number of data val\n",
    "def cnt_num(x_data, y_data, spr):\n",
    "    row = spr\n",
    "    cnt = np.zeros((row,2))\n",
    "    n = len(y_data)\n",
    "    for i in range(n):\n",
    "        \n",
    "        if int(y_data.iloc[i]) == 1:\n",
    "            cnt[x_data.iloc[i]][1] = cnt[x_data.iloc[i]][1] + 1\n",
    "        else:\n",
    "            cnt[x_data.iloc[i]][0] = cnt[x_data.iloc[i]][0] + 1\n",
    "    return cnt"
   ]
  },
  {
   "cell_type": "code",
   "execution_count": 9,
   "metadata": {},
   "outputs": [],
   "source": [
    "# calculate probability one and zero\n",
    "def get_prob(x_data):\n",
    "    \n",
    "    zero_pv = 1\n",
    "    one_pv = 1\n",
    "    n = len(x_data)\n",
    "    for i in range(n):\n",
    "        one_pv *= ( temp_res[i][x_data[i]][1] / sum(y_train == 1) )\n",
    "        zero_pv *= ( temp_res[i][x_data[i]][0] / sum(y_train == 0) )\n",
    "    \n",
    "        \n",
    "    return zero_pv, one_pv"
   ]
  },
  {
   "cell_type": "code",
   "execution_count": 10,
   "metadata": {},
   "outputs": [],
   "source": [
    "# naive bays classifier for train and predict the dataset\n",
    "class NaiveBaysClassifier:\n",
    "    def train(train_data, y_data):\n",
    "        temp_res = []\n",
    "        for i, columns in enumerate(train_data):\n",
    "            temp_res.append(cnt_num(train_data[columns], y_data, split_range[i])) \n",
    "    \n",
    "        return temp_res\n",
    "    \n",
    "    def predict(X_test, y_test):\n",
    "        n = len(y_test)\n",
    "        object_val = [0]*n\n",
    "        for i in range(n):\n",
    "            if get_prob(X_test.iloc[i])[0] < get_prob(X_test.iloc[i])[1]:\n",
    "                object_val[i] = 1\n",
    "            else:\n",
    "                object_val[i] = 0\n",
    "                \n",
    "        return object_val"
   ]
  },
  {
   "cell_type": "code",
   "execution_count": 11,
   "metadata": {},
   "outputs": [
    {
     "name": "stdout",
     "output_type": "stream",
     "text": [
      "[[301  99]\n",
      " [ 56 157]]\n",
      "accuracy score :  0.7471451876019576\n",
      "preision score :  0.61328125\n",
      "recall score :  0.7370892018779343\n",
      "f1 score :  0.6695095948827292\n"
     ]
    }
   ],
   "source": [
    "# using NaiveBaysClassifier, train datatset and get confusion matrix and score.\n",
    "temp_res = NaiveBaysClassifier.train(X_train, y_train)\n",
    "y_pred = NaiveBaysClassifier.predict(X_train, y_train)\n",
    "cf_mat = confusion_matrix(y_train, y_pred)\n",
    "print(cf_mat)\n",
    "\n",
    "acs = (cf_mat[0][0]+cf_mat[1][1])/(cf_mat[0][0]+cf_mat[0][1]+cf_mat[1][0]+cf_mat[1][1])\n",
    "ps = cf_mat[1][1]/(cf_mat[0][1]+cf_mat[1][1])\n",
    "rs = cf_mat[1][1]/(cf_mat[1][0]+cf_mat[1][1])\n",
    "f1s = 2*ps*rs / (ps+rs)\n",
    "print('accuracy score : ', acs)\n",
    "print('preision score : ', ps)\n",
    "print('recall score : ', rs)\n",
    "print('f1 score : ', f1s)"
   ]
  },
  {
   "cell_type": "code",
   "execution_count": 12,
   "metadata": {
    "scrolled": true
   },
   "outputs": [
    {
     "name": "stdout",
     "output_type": "stream",
     "text": [
      "[[80 20]\n",
      " [10 44]]\n",
      "accuracy score :  0.8051948051948052\n",
      "preision score :  0.6875\n",
      "recall score :  0.8148148148148148\n",
      "f1 score :  0.7457627118644067\n"
     ]
    }
   ],
   "source": [
    "# using NaiveBaysClassifier, test datatset and get confusion matrix and score.\n",
    "y_pred = NaiveBaysClassifier.predict(X_test, y_test)\n",
    "cf_mat = confusion_matrix(y_test, y_pred)\n",
    "print(cf_mat)\n",
    "\n",
    "acs = (cf_mat[0][0]+cf_mat[1][1])/(cf_mat[0][0]+cf_mat[0][1]+cf_mat[1][0]+cf_mat[1][1])\n",
    "ps = cf_mat[1][1]/(cf_mat[0][1]+cf_mat[1][1])\n",
    "rs = cf_mat[1][1]/(cf_mat[1][0]+cf_mat[1][1])\n",
    "f1s = 2*ps*rs / (ps+rs)\n",
    "\n",
    "print('accuracy score : ', acs)\n",
    "print('preision score : ', ps)\n",
    "print('recall score : ', rs)\n",
    "print('f1 score : ', f1s)"
   ]
  },
  {
   "cell_type": "code",
   "execution_count": 13,
   "metadata": {},
   "outputs": [
    {
     "name": "stdout",
     "output_type": "stream",
     "text": [
      "[[92  8]\n",
      " [30 24]]\n",
      "accuracy score :  0.7532467532467533\n",
      "preision score :  0.75\n",
      "recall score :  0.4444444444444444\n",
      "f1 score :  0.5581395348837209\n"
     ]
    }
   ],
   "source": [
    "# using GaussianNB, test datatset. and get confusion matrix and score.\n",
    "X_train, X_test, y_train, y_test = train_test_split(X_pred, y, test_size=0.2, shuffle=True, stratify=y, random_state=0)\n",
    "from sklearn.naive_bayes import GaussianNB\n",
    "nb = GaussianNB()\n",
    "y_pred = nb.fit(X_train, y_train).predict(X_test)\n",
    "cf_mat = confusion_matrix(y_test, y_pred)\n",
    "print(cf_mat)\n",
    "\n",
    "acs = (cf_mat[0][0]+cf_mat[1][1])/(cf_mat[0][0]+cf_mat[0][1]+cf_mat[1][0]+cf_mat[1][1])\n",
    "ps = cf_mat[1][1]/(cf_mat[0][1]+cf_mat[1][1])\n",
    "rs = cf_mat[1][1]/(cf_mat[1][0]+cf_mat[1][1])\n",
    "f1s = 2*ps*rs / (ps+rs)\n",
    "\n",
    "print('accuracy score : ', acs)\n",
    "print('preision score : ', ps)\n",
    "print('recall score : ', rs)\n",
    "print('f1 score : ', f1s)"
   ]
  },
  {
   "cell_type": "markdown",
   "metadata": {},
   "source": [
    "The data were called up and the missing values were filled in on average. It also divided the range and reduced the values that were too large to be small. I didn't use the Laplace smoothing technique. I created a cnt num function that counts numbers, and a getprob function that calculates probabilities.  A NaiveBaysClassifier was created to predict the value by selecting a higher probability. In fact, we compared it to the most widely used Gauss NB. For each result, accuracy, preference, recall, and f1 were obtained using the confusion matrix. Accuracy and preference were similar, but recall and f1 were slightly different. NaiveBase is used well for spam filtering, abnormality detection, and document classification and so on."
   ]
  }
 ],
 "metadata": {
  "kernelspec": {
   "display_name": "Python 3 (ipykernel)",
   "language": "python",
   "name": "python3"
  },
  "language_info": {
   "codemirror_mode": {
    "name": "ipython",
    "version": 3
   },
   "file_extension": ".py",
   "mimetype": "text/x-python",
   "name": "python",
   "nbconvert_exporter": "python",
   "pygments_lexer": "ipython3",
   "version": "3.9.7"
  }
 },
 "nbformat": 4,
 "nbformat_minor": 4
}
