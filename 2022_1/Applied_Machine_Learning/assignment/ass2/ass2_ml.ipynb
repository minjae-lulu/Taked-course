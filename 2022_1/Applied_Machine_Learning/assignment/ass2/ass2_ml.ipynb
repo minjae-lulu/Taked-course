{
 "cells": [
  {
   "cell_type": "code",
   "execution_count": 20,
   "id": "e711aa15",
   "metadata": {},
   "outputs": [],
   "source": [
    "import numpy as np\n",
    "import pandas as pd\n",
    "import matplotlib.pyplot as plt \n",
    "import random\n",
    "from tqdm import tqdm\n",
    "from sklearn.model_selection import train_test_split\n",
    "from sklearn.metrics import confusion_matrix\n",
    "from sklearn.metrics import accuracy_score\n"
   ]
  },
  {
   "cell_type": "code",
   "execution_count": 2,
   "id": "e0161870",
   "metadata": {},
   "outputs": [],
   "source": [
    "# #data loading\n",
    "# data = pd.read_csv(\"pima-indians-diabetes.csv\", names = [\"preg\",\"plas\",\"pres\",\"skin\",\"test\",\"mass\",\"pedi\",\"age\",\"class_\"])\n",
    "# y = data[\"class_\"]\n",
    "# X = data.drop(\"class_\",axis = 1)\n",
    "# data.head()\n",
    "# # df = pd.read_csv(\"pima-indians-diabetes.csv\", names = [\"pregnancies\", \"glucose\", \"blood_pressure\", \"skin_thickness\",\"insulin\",\"bmi\",\"Diabetes_Pedigree_Function\",\"age\",\"class\"])\n",
    "# # df.head()"
   ]
  },
  {
   "cell_type": "code",
   "execution_count": 3,
   "id": "8d043883",
   "metadata": {},
   "outputs": [
    {
     "name": "stdout",
     "output_type": "stream",
     "text": [
      "<class 'pandas.core.frame.DataFrame'>\n",
      "RangeIndex: 767 entries, 0 to 766\n",
      "Data columns (total 9 columns):\n",
      " #   Column                      Non-Null Count  Dtype  \n",
      "---  ------                      --------------  -----  \n",
      " 0   pregnancies                 767 non-null    int64  \n",
      " 1   glucose                     767 non-null    int64  \n",
      " 2   blood_pressure              767 non-null    int64  \n",
      " 3   skin_thickness              767 non-null    int64  \n",
      " 4   insulin                     767 non-null    int64  \n",
      " 5   bmi                         767 non-null    float64\n",
      " 6   Diabetes_Pedigree_Function  767 non-null    float64\n",
      " 7   age                         767 non-null    int64  \n",
      " 8   class                       767 non-null    int64  \n",
      "dtypes: float64(2), int64(7)\n",
      "memory usage: 54.1 KB\n"
     ]
    }
   ],
   "source": [
    "df = pd.read_csv(\"pima-indians-diabetes.csv\")\n",
    "df.columns = [\"pregnancies\", \"glucose\", \"blood_pressure\", \"skin_thickness\",\"insulin\",\"bmi\",\"Diabetes_Pedigree_Function\",\"age\",\"class\"]\n",
    "X = df.loc[:,'pregnancies':'age']\n",
    "y = df['class']\n",
    "\n",
    "df.info()"
   ]
  },
  {
   "cell_type": "code",
   "execution_count": 9,
   "id": "0058fb90",
   "metadata": {},
   "outputs": [],
   "source": [
    "def estimate_target_prob(df, target, label):\n",
    "    return len(df[df[target]==label])/len(df)\n"
   ]
  },
  {
   "cell_type": "code",
   "execution_count": 10,
   "id": "4b86a80a",
   "metadata": {},
   "outputs": [],
   "source": [
    "def category_prob(df, column, category, target, label, l=1):\n",
    "    numerator = len(df[(df[column]==category)&(df[target]==label)]) + l\n",
    "    denominator = len(df[df[target]==label])+l*len(df[column].unique())\n",
    "    return numerator/denominator"
   ]
  },
  {
   "cell_type": "code",
   "execution_count": 11,
   "id": "8013b6ad",
   "metadata": {},
   "outputs": [],
   "source": [
    "def estimate_mean_std(df, column, target, label):\n",
    "    temp = df[df[target]==label]\n",
    "    mu = temp[column].mean()\n",
    "    std = temp[column].std()\n",
    "    return mu, std"
   ]
  },
  {
   "cell_type": "code",
   "execution_count": 12,
   "id": "cfb866d7",
   "metadata": {},
   "outputs": [],
   "source": [
    "class NaiveBaysClassifier:\n",
    "    def __init__(self,unique_label,target,categorical_column=[]):\n",
    "        self.__reference_dict = None\n",
    "        self.__prior_probs = None\n",
    "        self.__categorical_column = categorical_column\n",
    "        self.__unique_label = unique_label\n",
    "        self.__target = target\n",
    "        \n",
    "    def train(self, train_df):\n",
    "        reference_dict = dict()\n",
    "        for col in train_df.columns[:-1]: ## target column은 마지막열에 있다고 가정.\n",
    "            temp_res = []\n",
    "            for label in self.__unique_label:\n",
    "                if col in self.__categorical_column:\n",
    "                    unique_value = train_df[col].unique()\n",
    "                    temp_res1 = []\n",
    "                    for u in unique_value:\n",
    "                        temp_res1.append(category_prob(train_df, col, u, self.__target, label, l=1))\n",
    "                    temp_res.append(temp_res1)\n",
    "                else:\n",
    "                    temp_res.append(estimate_mean_std(train_df, col, self.__target, label))\n",
    " \n",
    "            reference_dict[col] = temp_res\n",
    "        self.__reference_dict = reference_dict\n",
    "        \n",
    "        prior_probs = []\n",
    "        for label in self.__unique_label:\n",
    "            prior_prob = estimate_target_prob(train_df, self.__target, label)\n",
    "            prior_probs.append(prior_prob)\n",
    "        self.__prior_probs = prior_probs\n",
    "        \n",
    "        \n",
    "    def get_reference_dict(self):\n",
    "        return self.__reference_dict\n",
    " \n",
    "    def predict(self, new_data):\n",
    "        object_value = [0]*len(self.__unique_label)\n",
    "        for idx in new_data.index[:-1]:\n",
    "            value = new_data[idx] \n",
    "            reference_value = self.__reference_dict[idx]\n",
    " \n",
    "            if idx in self.__categorical_column:\n",
    "                for i, r in enumerate(reference_value):\n",
    "                    ## if category, reference value is the value of probability\n",
    "                    value = int(value) ## 표준화를 하는 과정에서 다른 열의 정수 값이 float로 바뀌기 다시 정수로 바꿔줌\n",
    "                    object_value[i] += np.log(r[value])\n",
    "            else:\n",
    "                for i, r in enumerate(reference_value):\n",
    "                    ## if continuous, reference value contains (mean, std)\n",
    "                    object_value[i] += np.log(norm.pdf(value, r[0], r[1]))\n",
    " \n",
    "        \n",
    "        for i in self.__unique_label:\n",
    "            object_value[i] += np.log(self.__prior_probs[i])\n",
    "        max_object_value = max(object_value)\n",
    "        max_idx = object_value.index(max_object_value)\n",
    "        return max_idx"
   ]
  },
  {
   "cell_type": "code",
   "execution_count": null,
   "id": "bfdd9fd7",
   "metadata": {},
   "outputs": [],
   "source": []
  },
  {
   "cell_type": "code",
   "execution_count": null,
   "id": "72777fcb",
   "metadata": {},
   "outputs": [],
   "source": []
  },
  {
   "cell_type": "code",
   "execution_count": 4,
   "id": "1385bb18",
   "metadata": {},
   "outputs": [],
   "source": [
    "X_train, X_test, y_train, y_test = train_test_split(df, y, test_size = 0.2, random_state = 0)"
   ]
  },
  {
   "cell_type": "code",
   "execution_count": 31,
   "id": "97824ee7",
   "metadata": {},
   "outputs": [
    {
     "data": {
      "text/plain": [
       "661    1\n",
       "122    0\n",
       "113    1\n",
       "14     1\n",
       "529    0\n",
       "      ..\n",
       "476    0\n",
       "482    0\n",
       "230    1\n",
       "527    0\n",
       "380    0\n",
       "Name: class, Length: 154, dtype: int64"
      ]
     },
     "execution_count": 31,
     "metadata": {},
     "output_type": "execute_result"
    }
   ],
   "source": [
    "y_test"
   ]
  },
  {
   "cell_type": "code",
   "execution_count": 5,
   "id": "0814af1e",
   "metadata": {},
   "outputs": [
    {
     "name": "stdout",
     "output_type": "stream",
     "text": [
      "[[89 12]\n",
      " [18 35]]\n",
      "0.8051948051948052\n"
     ]
    }
   ],
   "source": [
    "X_train, X_test, y_train, y_test = train_test_split(X, y, test_size = 0.2, random_state = 0)\n",
    "from sklearn.naive_bayes import GaussianNB\n",
    "nb = GaussianNB()\n",
    "y_pred = nb.fit(X_train, y_train).predict(X_test)\n",
    "print(confusion_matrix(y_test, y_pred))\n",
    "print(accuracy_score(y_test, y_pred))"
   ]
  },
  {
   "cell_type": "code",
   "execution_count": 14,
   "id": "1a25d0a6",
   "metadata": {},
   "outputs": [],
   "source": [
    "def split_test_train_data(df, split_ratio):\n",
    "    num_test_df = int(len(df)*split_ratio)\n",
    "    idx_test_df = random.sample(df.index.tolist(),num_test_df)\n",
    "    \n",
    "    test_df = df.loc[idx_test_df].reset_index(drop=True)\n",
    "    train_df = df.drop(idx_test_df).reset_index(drop=True)\n",
    "    return train_df, test_df"
   ]
  },
  {
   "cell_type": "code",
   "execution_count": null,
   "id": "c12982e1",
   "metadata": {},
   "outputs": [],
   "source": []
  },
  {
   "cell_type": "code",
   "execution_count": 17,
   "id": "250f9ac4",
   "metadata": {},
   "outputs": [],
   "source": [
    "random.seed(110)\n",
    "split_ratio = 0.2\n",
    " \n",
    "train_df, test_df = split_test_train_data(df,split_ratio) ## split train, test dataset\n",
    " \n",
    "\n",
    "for col in train_df.columns[:-1]:\n",
    "    if col not in categorical_column:\n",
    "        mean = train_df[col].mean()\n",
    "        std = train_df[col].std()\n",
    "        train_df[col] = train_df[col].map(lambda x: (x-mean)/std)\n",
    "        test_df[col] = test_df[col].map(lambda x: (x-mean)/std)\n",
    " \n",
    "target = 'class'\n",
    "unique_label = df[target].unique()\n",
    " \n",
    "NBC = NaiveBaysClassifier(unique_label,target,categorical_column)"
   ]
  },
  {
   "cell_type": "code",
   "execution_count": 18,
   "id": "5128c08b",
   "metadata": {},
   "outputs": [],
   "source": [
    "NBC.train(train_df) ## 나이브 베이즈 분류기 학습"
   ]
  },
  {
   "cell_type": "code",
   "execution_count": 22,
   "id": "a27ec754",
   "metadata": {},
   "outputs": [],
   "source": [
    "import pandas as pd\n",
    "import numpy as np\n",
    "import random\n",
    "import re\n",
    "import warnings\n",
    "warnings.filterwarnings('ignore')\n",
    " \n",
    "from collections import defaultdict\n",
    "from tqdm import tqdm\n",
    "from scipy.stats import norm\n",
    "from sklearn.model_selection import train_test_split\n",
    "from sklearn.naive_bayes import GaussianNB\n",
    "from sklearn.naive_bayes import MultinomialNB\n",
    "from sklearn.feature_extraction.text import CountVectorizer\n"
   ]
  },
  {
   "cell_type": "code",
   "execution_count": 23,
   "id": "8d963cae",
   "metadata": {},
   "outputs": [
    {
     "name": "stderr",
     "output_type": "stream",
     "text": [
      " 69%|██████████████████████████▉            | 424/614 [00:00<00:00, 9796.16it/s]\n"
     ]
    },
    {
     "ename": "IndexError",
     "evalue": "list index out of range",
     "output_type": "error",
     "traceback": [
      "\u001b[0;31m---------------------------------------------------------------------------\u001b[0m",
      "\u001b[0;31mIndexError\u001b[0m                                Traceback (most recent call last)",
      "\u001b[0;32m/var/folders/mw/2b189gpn0zx3q7wtbh291fsr0000gn/T/ipykernel_11371/3548865753.py\u001b[0m in \u001b[0;36m<module>\u001b[0;34m\u001b[0m\n\u001b[1;32m      2\u001b[0m \u001b[0mtotal_sum\u001b[0m \u001b[0;34m=\u001b[0m \u001b[0;36m0\u001b[0m\u001b[0;34m\u001b[0m\u001b[0;34m\u001b[0m\u001b[0m\n\u001b[1;32m      3\u001b[0m \u001b[0;32mfor\u001b[0m \u001b[0mi\u001b[0m\u001b[0;34m,\u001b[0m \u001b[0mnew_data\u001b[0m \u001b[0;32min\u001b[0m \u001b[0mtqdm\u001b[0m\u001b[0;34m(\u001b[0m\u001b[0mtrain_df\u001b[0m\u001b[0;34m.\u001b[0m\u001b[0miterrows\u001b[0m\u001b[0;34m(\u001b[0m\u001b[0;34m)\u001b[0m\u001b[0;34m,\u001b[0m \u001b[0mtotal\u001b[0m\u001b[0;34m=\u001b[0m\u001b[0mlen\u001b[0m\u001b[0;34m(\u001b[0m\u001b[0mtrain_df\u001b[0m\u001b[0;34m)\u001b[0m\u001b[0;34m)\u001b[0m\u001b[0;34m:\u001b[0m\u001b[0;34m\u001b[0m\u001b[0;34m\u001b[0m\u001b[0m\n\u001b[0;32m----> 4\u001b[0;31m     \u001b[0;32mif\u001b[0m \u001b[0mnew_data\u001b[0m\u001b[0;34m[\u001b[0m\u001b[0mtarget\u001b[0m\u001b[0;34m]\u001b[0m \u001b[0;34m==\u001b[0m \u001b[0mNBC\u001b[0m\u001b[0;34m.\u001b[0m\u001b[0mpredict\u001b[0m\u001b[0;34m(\u001b[0m\u001b[0mnew_data\u001b[0m\u001b[0;34m)\u001b[0m\u001b[0;34m:\u001b[0m\u001b[0;34m\u001b[0m\u001b[0;34m\u001b[0m\u001b[0m\n\u001b[0m\u001b[1;32m      5\u001b[0m         \u001b[0mtotal_sum\u001b[0m \u001b[0;34m+=\u001b[0m \u001b[0;36m1\u001b[0m\u001b[0;34m\u001b[0m\u001b[0;34m\u001b[0m\u001b[0m\n\u001b[1;32m      6\u001b[0m \u001b[0;34m\u001b[0m\u001b[0m\n",
      "\u001b[0;32m/var/folders/mw/2b189gpn0zx3q7wtbh291fsr0000gn/T/ipykernel_11371/2900256563.py\u001b[0m in \u001b[0;36mpredict\u001b[0;34m(self, new_data)\u001b[0m\n\u001b[1;32m     44\u001b[0m                     \u001b[0;31m## if category, reference value is the value of probability\u001b[0m\u001b[0;34m\u001b[0m\u001b[0;34m\u001b[0m\u001b[0m\n\u001b[1;32m     45\u001b[0m                     \u001b[0mvalue\u001b[0m \u001b[0;34m=\u001b[0m \u001b[0mint\u001b[0m\u001b[0;34m(\u001b[0m\u001b[0mvalue\u001b[0m\u001b[0;34m)\u001b[0m \u001b[0;31m## 표준화를 하는 과정에서 다른 열의 정수 값이 float로 바뀌기 다시 정수로 바꿔줌\u001b[0m\u001b[0;34m\u001b[0m\u001b[0;34m\u001b[0m\u001b[0m\n\u001b[0;32m---> 46\u001b[0;31m                     \u001b[0mobject_value\u001b[0m\u001b[0;34m[\u001b[0m\u001b[0mi\u001b[0m\u001b[0;34m]\u001b[0m \u001b[0;34m+=\u001b[0m \u001b[0mnp\u001b[0m\u001b[0;34m.\u001b[0m\u001b[0mlog\u001b[0m\u001b[0;34m(\u001b[0m\u001b[0mr\u001b[0m\u001b[0;34m[\u001b[0m\u001b[0mvalue\u001b[0m\u001b[0;34m]\u001b[0m\u001b[0;34m)\u001b[0m\u001b[0;34m\u001b[0m\u001b[0;34m\u001b[0m\u001b[0m\n\u001b[0m\u001b[1;32m     47\u001b[0m             \u001b[0;32melse\u001b[0m\u001b[0;34m:\u001b[0m\u001b[0;34m\u001b[0m\u001b[0;34m\u001b[0m\u001b[0m\n\u001b[1;32m     48\u001b[0m                 \u001b[0;32mfor\u001b[0m \u001b[0mi\u001b[0m\u001b[0;34m,\u001b[0m \u001b[0mr\u001b[0m \u001b[0;32min\u001b[0m \u001b[0menumerate\u001b[0m\u001b[0;34m(\u001b[0m\u001b[0mreference_value\u001b[0m\u001b[0;34m)\u001b[0m\u001b[0;34m:\u001b[0m\u001b[0;34m\u001b[0m\u001b[0;34m\u001b[0m\u001b[0m\n",
      "\u001b[0;31mIndexError\u001b[0m: list index out of range"
     ]
    }
   ],
   "source": [
    "## train accuracy\n",
    "total_sum = 0\n",
    "for i, new_data in tqdm(train_df.iterrows(), total=len(train_df)):\n",
    "    if new_data[target] == NBC.predict(new_data):\n",
    "        total_sum += 1        \n",
    "        \n",
    "accuracy = total_sum/len(train_df)"
   ]
  },
  {
   "cell_type": "code",
   "execution_count": 24,
   "id": "1ccfe6a1",
   "metadata": {},
   "outputs": [
    {
     "name": "stderr",
     "output_type": "stream",
     "text": [
      " 14%|█████▍                                  | 21/153 [00:00<00:00, 5210.93it/s]\n"
     ]
    },
    {
     "ename": "IndexError",
     "evalue": "list index out of range",
     "output_type": "error",
     "traceback": [
      "\u001b[0;31m---------------------------------------------------------------------------\u001b[0m",
      "\u001b[0;31mIndexError\u001b[0m                                Traceback (most recent call last)",
      "\u001b[0;32m/var/folders/mw/2b189gpn0zx3q7wtbh291fsr0000gn/T/ipykernel_11371/665536498.py\u001b[0m in \u001b[0;36m<module>\u001b[0;34m\u001b[0m\n\u001b[1;32m      2\u001b[0m \u001b[0mtotal_sum\u001b[0m \u001b[0;34m=\u001b[0m \u001b[0;36m0\u001b[0m\u001b[0;34m\u001b[0m\u001b[0;34m\u001b[0m\u001b[0m\n\u001b[1;32m      3\u001b[0m \u001b[0;32mfor\u001b[0m \u001b[0mi\u001b[0m\u001b[0;34m,\u001b[0m \u001b[0mnew_data\u001b[0m \u001b[0;32min\u001b[0m \u001b[0mtqdm\u001b[0m\u001b[0;34m(\u001b[0m\u001b[0mtest_df\u001b[0m\u001b[0;34m.\u001b[0m\u001b[0miterrows\u001b[0m\u001b[0;34m(\u001b[0m\u001b[0;34m)\u001b[0m\u001b[0;34m,\u001b[0m \u001b[0mtotal\u001b[0m\u001b[0;34m=\u001b[0m\u001b[0mlen\u001b[0m\u001b[0;34m(\u001b[0m\u001b[0mtest_df\u001b[0m\u001b[0;34m)\u001b[0m\u001b[0;34m)\u001b[0m\u001b[0;34m:\u001b[0m\u001b[0;34m\u001b[0m\u001b[0;34m\u001b[0m\u001b[0m\n\u001b[0;32m----> 4\u001b[0;31m     \u001b[0;32mif\u001b[0m \u001b[0mnew_data\u001b[0m\u001b[0;34m[\u001b[0m\u001b[0mtarget\u001b[0m\u001b[0;34m]\u001b[0m \u001b[0;34m==\u001b[0m \u001b[0mNBC\u001b[0m\u001b[0;34m.\u001b[0m\u001b[0mpredict\u001b[0m\u001b[0;34m(\u001b[0m\u001b[0mnew_data\u001b[0m\u001b[0;34m)\u001b[0m\u001b[0;34m:\u001b[0m\u001b[0;34m\u001b[0m\u001b[0;34m\u001b[0m\u001b[0m\n\u001b[0m\u001b[1;32m      5\u001b[0m         \u001b[0mtotal_sum\u001b[0m \u001b[0;34m+=\u001b[0m \u001b[0;36m1\u001b[0m\u001b[0;34m\u001b[0m\u001b[0;34m\u001b[0m\u001b[0m\n\u001b[1;32m      6\u001b[0m \u001b[0;34m\u001b[0m\u001b[0m\n",
      "\u001b[0;32m/var/folders/mw/2b189gpn0zx3q7wtbh291fsr0000gn/T/ipykernel_11371/2900256563.py\u001b[0m in \u001b[0;36mpredict\u001b[0;34m(self, new_data)\u001b[0m\n\u001b[1;32m     44\u001b[0m                     \u001b[0;31m## if category, reference value is the value of probability\u001b[0m\u001b[0;34m\u001b[0m\u001b[0;34m\u001b[0m\u001b[0m\n\u001b[1;32m     45\u001b[0m                     \u001b[0mvalue\u001b[0m \u001b[0;34m=\u001b[0m \u001b[0mint\u001b[0m\u001b[0;34m(\u001b[0m\u001b[0mvalue\u001b[0m\u001b[0;34m)\u001b[0m \u001b[0;31m## 표준화를 하는 과정에서 다른 열의 정수 값이 float로 바뀌기 다시 정수로 바꿔줌\u001b[0m\u001b[0;34m\u001b[0m\u001b[0;34m\u001b[0m\u001b[0m\n\u001b[0;32m---> 46\u001b[0;31m                     \u001b[0mobject_value\u001b[0m\u001b[0;34m[\u001b[0m\u001b[0mi\u001b[0m\u001b[0;34m]\u001b[0m \u001b[0;34m+=\u001b[0m \u001b[0mnp\u001b[0m\u001b[0;34m.\u001b[0m\u001b[0mlog\u001b[0m\u001b[0;34m(\u001b[0m\u001b[0mr\u001b[0m\u001b[0;34m[\u001b[0m\u001b[0mvalue\u001b[0m\u001b[0;34m]\u001b[0m\u001b[0;34m)\u001b[0m\u001b[0;34m\u001b[0m\u001b[0;34m\u001b[0m\u001b[0m\n\u001b[0m\u001b[1;32m     47\u001b[0m             \u001b[0;32melse\u001b[0m\u001b[0;34m:\u001b[0m\u001b[0;34m\u001b[0m\u001b[0;34m\u001b[0m\u001b[0m\n\u001b[1;32m     48\u001b[0m                 \u001b[0;32mfor\u001b[0m \u001b[0mi\u001b[0m\u001b[0;34m,\u001b[0m \u001b[0mr\u001b[0m \u001b[0;32min\u001b[0m \u001b[0menumerate\u001b[0m\u001b[0;34m(\u001b[0m\u001b[0mreference_value\u001b[0m\u001b[0;34m)\u001b[0m\u001b[0;34m:\u001b[0m\u001b[0;34m\u001b[0m\u001b[0;34m\u001b[0m\u001b[0m\n",
      "\u001b[0;31mIndexError\u001b[0m: list index out of range"
     ]
    }
   ],
   "source": [
    "## test accuracy\n",
    "total_sum = 0\n",
    "for i, new_data in tqdm(test_df.iterrows(), total=len(test_df)):\n",
    "    if new_data[target] == NBC.predict(new_data):\n",
    "        total_sum += 1        \n",
    "        \n",
    "accuracy = total_sum/len(test_df)"
   ]
  },
  {
   "cell_type": "code",
   "execution_count": 28,
   "id": "41242cad",
   "metadata": {},
   "outputs": [
    {
     "data": {
      "text/plain": [
       "array([[0., 0.],\n",
       "       [0., 0.],\n",
       "       [0., 0.],\n",
       "       [0., 0.]])"
      ]
     },
     "execution_count": 28,
     "metadata": {},
     "output_type": "execute_result"
    }
   ],
   "source": [
    "split_range = [4,5,4,3,2,5,4,5]\n",
    "count = np.zeros((4,2))\n",
    "count"
   ]
  }
 ],
 "metadata": {
  "kernelspec": {
   "display_name": "Python 3 (ipykernel)",
   "language": "python",
   "name": "python3"
  },
  "language_info": {
   "codemirror_mode": {
    "name": "ipython",
    "version": 3
   },
   "file_extension": ".py",
   "mimetype": "text/x-python",
   "name": "python",
   "nbconvert_exporter": "python",
   "pygments_lexer": "ipython3",
   "version": "3.9.7"
  }
 },
 "nbformat": 4,
 "nbformat_minor": 5
}
