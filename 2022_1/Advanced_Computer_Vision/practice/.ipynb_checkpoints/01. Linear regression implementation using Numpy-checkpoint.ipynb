{
 "cells": [
  {
   "cell_type": "code",
   "execution_count": 1,
   "id": "ac2c5c00",
   "metadata": {},
   "outputs": [],
   "source": [
    "import numpy as np"
   ]
  },
  {
   "cell_type": "code",
   "execution_count": 2,
   "id": "bd5da524",
   "metadata": {},
   "outputs": [],
   "source": [
    "w_true = np.array([1,2,3])\n",
    "b_true = 5"
   ]
  },
  {
   "cell_type": "code",
   "execution_count": 3,
   "id": "bb551c1e",
   "metadata": {},
   "outputs": [],
   "source": [
    "w = np.random.rand(3,1).squeeze(1) # 0~1 값중 소수로 3*1행렬에 생성, squeeze(1) -> 값 1인거는 제거\n",
    "b = np.random.rand(1)"
   ]
  },
  {
   "cell_type": "code",
   "execution_count": 4,
   "id": "1f081022",
   "metadata": {},
   "outputs": [],
   "source": [
    "X = np.random.rand(100,3)\n",
    "y = np.dot(X, w_true) + b_true"
   ]
  },
  {
   "cell_type": "code",
   "execution_count": 5,
   "id": "50f5b479",
   "metadata": {},
   "outputs": [],
   "source": [
    "gamma = 0.01 # lerning rate\n",
    "losses = []"
   ]
  },
  {
   "cell_type": "code",
   "execution_count": 6,
   "id": "91560b0e",
   "metadata": {},
   "outputs": [],
   "source": [
    "for i in range(100):\n",
    "    errors = y - (np.dot(X,w)+b)\n",
    "    dEdw = np.dot(X.T, errors)\n",
    "    dEdb = errors.sum()\n",
    "    loss = (errors**2).sum() / 2.0\n",
    "    \n",
    "    w += gamma * dEdw\n",
    "    b += gamma * dEdb\n",
    "    \n",
    "    losses.append(loss)"
   ]
  },
  {
   "cell_type": "code",
   "execution_count": 7,
   "id": "303fe44f",
   "metadata": {},
   "outputs": [
    {
     "name": "stdout",
     "output_type": "stream",
     "text": [
      "obtained w:  [1.0012434  2.00534969 3.00439074] true w:  [1 2 3]\n",
      "obtained b:  [4.99409833] true b:  5\n"
     ]
    }
   ],
   "source": [
    "print(\"obtained w: \", w, \"true w: \", w_true)\n",
    "print(\"obtained b: \", b, \"true b: \", b_true)"
   ]
  },
  {
   "cell_type": "code",
   "execution_count": 8,
   "id": "2c9a14c5",
   "metadata": {},
   "outputs": [],
   "source": [
    "from matplotlib import pyplot as plt"
   ]
  },
  {
   "cell_type": "code",
   "execution_count": 9,
   "id": "f336118d",
   "metadata": {},
   "outputs": [
    {
     "data": {
      "text/plain": [
       "[<matplotlib.lines.Line2D at 0x7fad408f6ca0>]"
      ]
     },
     "execution_count": 9,
     "metadata": {},
     "output_type": "execute_result"
    },
    {
     "data": {
      "image/png": "[encoded data removed]",
      "text/plain": [
       "<Figure size 432x288 with 1 Axes>"
      ]
     },
     "metadata": {
      "needs_background": "light"
     },
     "output_type": "display_data"
    }
   ],
   "source": [
    "plt.plot(losses)"
   ]
  },
  {
   "cell_type": "code",
   "execution_count": null,
   "id": "27a75375",
   "metadata": {},
   "outputs": [],
   "source": []
  },
  {
   "cell_type": "code",
   "execution_count": null,
   "id": "bcbdb614",
   "metadata": {},
   "outputs": [],
   "source": []
  }
 ],
 "metadata": {
  "kernelspec": {
   "display_name": "Python 3 (ipykernel)",
   "language": "python",
   "name": "python3"
  },
  "language_info": {
   "codemirror_mode": {
    "name": "ipython",
    "version": 3
   },
   "file_extension": ".py",
   "mimetype": "text/x-python",
   "name": "python",
   "nbconvert_exporter": "python",
   "pygments_lexer": "ipython3",
   "version": "3.9.7"
  }
 },
 "nbformat": 4,
 "nbformat_minor": 5
}
