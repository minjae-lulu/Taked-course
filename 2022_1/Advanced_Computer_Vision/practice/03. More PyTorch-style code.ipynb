{
 "cells": [
  {
   "cell_type": "code",
   "execution_count": 1,
   "id": "1d27915e",
   "metadata": {},
   "outputs": [],
   "source": [
    "import torch"
   ]
  },
  {
   "cell_type": "code",
   "execution_count": 2,
   "id": "0e7f22e3",
   "metadata": {},
   "outputs": [],
   "source": [
    "w_true = torch.Tensor([1,2,3])\n",
    "b_true = 5\n",
    "\n",
    "net = torch.nn.Linear(in_features = 3, out_features = 1, bias = True)"
   ]
  },
  {
   "cell_type": "code",
   "execution_count": 3,
   "id": "e9fa8e55",
   "metadata": {},
   "outputs": [],
   "source": [
    "X = torch.randn(100,3)\n",
    "y = torch.mv(X, w_true) + b_true"
   ]
  },
  {
   "cell_type": "code",
   "execution_count": 4,
   "id": "519a32fe",
   "metadata": {},
   "outputs": [],
   "source": [
    "gamma = 0.1\n",
    "losses = []"
   ]
  },
  {
   "cell_type": "code",
   "execution_count": 5,
   "id": "9e671219",
   "metadata": {},
   "outputs": [],
   "source": [
    "optimizer = torch.optim.SGD(net.parameters(), lr=gamma)\n",
    "loss_fn = torch.nn.MSELoss()"
   ]
  },
  {
   "cell_type": "code",
   "execution_count": 6,
   "id": "f338b011",
   "metadata": {},
   "outputs": [],
   "source": [
    "for i in range(100):\n",
    "    optimizer.zero_grad()\n",
    "    \n",
    "    y_pred = net(X)\n",
    "    \n",
    "    loss = loss_fn(y_pred.squeeze(1), y)\n",
    "    loss.backward()\n",
    "    \n",
    "    optimizer.step()\n",
    "    \n",
    "    losses.append(loss.item())\n"
   ]
  },
  {
   "cell_type": "code",
   "execution_count": 7,
   "id": "3cc37dbb",
   "metadata": {},
   "outputs": [
    {
     "name": "stdout",
     "output_type": "stream",
     "text": [
      "[Parameter containing:\n",
      "tensor([[1.0000, 2.0000, 3.0000]], requires_grad=True), Parameter containing:\n",
      "tensor([5.0000], requires_grad=True)]\n"
     ]
    }
   ],
   "source": [
    "print(list(net.parameters()))"
   ]
  },
  {
   "cell_type": "code",
   "execution_count": 8,
   "id": "6758f85a",
   "metadata": {},
   "outputs": [
    {
     "data": {
      "text/plain": [
       "[<matplotlib.lines.Line2D at 0x7fbde2ff6490>]"
      ]
     },
     "execution_count": 8,
     "metadata": {},
     "output_type": "execute_result"
    },
    {
     "data": {
      "image/png": "[encoded data removed]",
      "text/plain": [
       "<Figure size 432x288 with 1 Axes>"
      ]
     },
     "metadata": {
      "needs_background": "light"
     },
     "output_type": "display_data"
    }
   ],
   "source": [
    "from matplotlib import pyplot as plt\n",
    "plt.plot(losses)"
   ]
  }
 ],
 "metadata": {
  "kernelspec": {
   "display_name": "Python 3 (ipykernel)",
   "language": "python",
   "name": "python3"
  },
  "language_info": {
   "codemirror_mode": {
    "name": "ipython",
    "version": 3
   },
   "file_extension": ".py",
   "mimetype": "text/x-python",
   "name": "python",
   "nbconvert_exporter": "python",
   "pygments_lexer": "ipython3",
   "version": "3.9.7"
  }
 },
 "nbformat": 4,
 "nbformat_minor": 5
}
