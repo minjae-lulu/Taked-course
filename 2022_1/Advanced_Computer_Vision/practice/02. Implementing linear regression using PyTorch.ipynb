{
 "cells": [
  {
   "cell_type": "code",
   "execution_count": 1,
   "id": "c9362051",
   "metadata": {},
   "outputs": [],
   "source": [
    "import torch"
   ]
  },
  {
   "cell_type": "code",
   "execution_count": 3,
   "id": "b1bf594e",
   "metadata": {},
   "outputs": [],
   "source": [
    "w_true = torch.Tensor([1,2,3])\n",
    "b_true = 5\n",
    "\n",
    "w = torch.randn(3, requires_grad=True)\n",
    "b = torch.randn(1, requires_grad=True)"
   ]
  },
  {
   "cell_type": "code",
   "execution_count": 4,
   "id": "1ab8bbca",
   "metadata": {},
   "outputs": [],
   "source": [
    "X = torch.randn(100,3)\n",
    "y = torch.mv(X, w_true) + b_true"
   ]
  },
  {
   "cell_type": "code",
   "execution_count": 5,
   "id": "02634f05",
   "metadata": {},
   "outputs": [],
   "source": [
    "gamma = 0.01\n",
    "losses = []"
   ]
  },
  {
   "cell_type": "code",
   "execution_count": 6,
   "id": "18db684d",
   "metadata": {},
   "outputs": [],
   "source": [
    "for i in range(500):\n",
    "    w.grad = None\n",
    "    b.grad = None\n",
    "    \n",
    "    y_pred = torch.mv(X,w)+b\n",
    "    \n",
    "    loss = torch.mean((y-y_pred)**2)\n",
    "    loss.backward()\n",
    "    \n",
    "    w.data -= gamma * w.grad.data\n",
    "    b.data -= gamma * b.grad.data\n",
    "    \n",
    "    losses.append(loss.item())"
   ]
  },
  {
   "cell_type": "code",
   "execution_count": 8,
   "id": "10faa4db",
   "metadata": {},
   "outputs": [
    {
     "name": "stdout",
     "output_type": "stream",
     "text": [
      "obtained w:  tensor([1.0015, 1.9986, 2.9986], requires_grad=True) true w:  tensor([1., 2., 3.])\n",
      "obtained b:  tensor([4.9993], requires_grad=True) true b:  5\n"
     ]
    }
   ],
   "source": [
    "print(\"obtained w: \", w, \"true w: \", w_true)\n",
    "print(\"obtained b: \", b, \"true b: \", b_true)"
   ]
  },
  {
   "cell_type": "code",
   "execution_count": 9,
   "id": "20b9f278",
   "metadata": {},
   "outputs": [
    {
     "data": {
      "text/plain": [
       "[<matplotlib.lines.Line2D at 0x7f94cb77a7f0>]"
      ]
     },
     "execution_count": 9,
     "metadata": {},
     "output_type": "execute_result"
    },
    {
     "data": {
      "image/png": "[encoded data removed]",
      "text/plain": [
       "<Figure size 432x288 with 1 Axes>"
      ]
     },
     "metadata": {
      "needs_background": "light"
     },
     "output_type": "display_data"
    }
   ],
   "source": [
    "from matplotlib import pyplot as plt\n",
    "plt.plot(losses)"
   ]
  }
 ],
 "metadata": {
  "kernelspec": {
   "display_name": "Python 3 (ipykernel)",
   "language": "python",
   "name": "python3"
  },
  "language_info": {
   "codemirror_mode": {
    "name": "ipython",
    "version": 3
   },
   "file_extension": ".py",
   "mimetype": "text/x-python",
   "name": "python",
   "nbconvert_exporter": "python",
   "pygments_lexer": "ipython3",
   "version": "3.9.7"
  }
 },
 "nbformat": 4,
 "nbformat_minor": 5
}
