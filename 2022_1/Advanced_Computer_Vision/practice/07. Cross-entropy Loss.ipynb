{
 "cells": [
  {
   "cell_type": "code",
   "execution_count": 1,
   "id": "4c21b5a6",
   "metadata": {},
   "outputs": [],
   "source": [
    "import torch\n",
    "import torch.nn as nn"
   ]
  },
  {
   "cell_type": "code",
   "execution_count": 2,
   "id": "2595a7f0",
   "metadata": {},
   "outputs": [],
   "source": [
    "loss = nn.CrossEntropyLoss() #loss 함수는 이아이이다.\n",
    "\n",
    "input = torch.randn(3,5, requires_grad = True)\n",
    "target = torch.empty(3, dtype = torch.long).random_(5) #0~4중에서 3개칸에 랜덤값 부여\n",
    "\n",
    "output = loss(input, target)"
   ]
  },
  {
   "cell_type": "code",
   "execution_count": 3,
   "id": "2ec9dd75",
   "metadata": {},
   "outputs": [
    {
     "name": "stdout",
     "output_type": "stream",
     "text": [
      "tensor([[ 0.8352, -0.1742, -0.2516, -1.2409,  1.3608],\n",
      "        [-0.2908,  0.1519,  0.1206, -0.9236,  0.5433],\n",
      "        [ 0.5762,  0.3399,  0.2871, -0.8279,  0.5358]], requires_grad=True)\n",
      "tensor([0, 4, 1])\n",
      "tensor(1.3040, grad_fn=<NllLossBackward0>)\n"
     ]
    }
   ],
   "source": [
    "print(input)\n",
    "print(target)\n",
    "print(output)"
   ]
  }
 ],
 "metadata": {
  "kernelspec": {
   "display_name": "Python 3 (ipykernel)",
   "language": "python",
   "name": "python3"
  },
  "language_info": {
   "codemirror_mode": {
    "name": "ipython",
    "version": 3
   },
   "file_extension": ".py",
   "mimetype": "text/x-python",
   "name": "python",
   "nbconvert_exporter": "python",
   "pygments_lexer": "ipython3",
   "version": "3.9.7"
  }
 },
 "nbformat": 4,
 "nbformat_minor": 5
}
