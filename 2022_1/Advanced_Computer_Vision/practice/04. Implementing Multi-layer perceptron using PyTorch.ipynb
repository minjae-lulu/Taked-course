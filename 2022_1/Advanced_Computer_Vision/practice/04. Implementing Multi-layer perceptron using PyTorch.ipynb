{
 "cells": [
  {
   "cell_type": "code",
   "execution_count": 1,
   "id": "330b749f",
   "metadata": {},
   "outputs": [],
   "source": [
    "import torch"
   ]
  },
  {
   "cell_type": "code",
   "execution_count": 2,
   "id": "b7de0d0a",
   "metadata": {},
   "outputs": [],
   "source": [
    "#make data\n",
    "num_data = 1000\n",
    "num_epoch = 10000\n",
    "x = torch.randn(num_data, 1)\n",
    "y = (x**2) + 3"
   ]
  },
  {
   "cell_type": "code",
   "execution_count": 3,
   "id": "676af1f2",
   "metadata": {},
   "outputs": [],
   "source": [
    "# multi layer perceptron structure\n",
    "net = torch.nn.Sequential(\n",
    "    torch.nn.Linear(1,6),\n",
    "    torch.nn.ReLU(),\n",
    "    torch.nn.Linear(6,10),\n",
    "    torch.nn.ReLU(),\n",
    "    torch.nn.Linear(10,6),\n",
    "    torch.nn.ReLU(),\n",
    "    torch.nn.Linear(6,1),\n",
    ")"
   ]
  },
  {
   "cell_type": "code",
   "execution_count": 4,
   "id": "fc040aaf",
   "metadata": {},
   "outputs": [],
   "source": [
    "# defind loss function and optimizer\n",
    "loss_func = torch.nn.MSELoss()\n",
    "optimizer = torch.optim.SGD(net.parameters(), lr=0.01)\n",
    "\n",
    "losses = []"
   ]
  },
  {
   "cell_type": "code",
   "execution_count": 5,
   "id": "4f7e85ba",
   "metadata": {},
   "outputs": [],
   "source": [
    "# optimize network through iterations\n",
    "for i in range(num_epoch):\n",
    "    optimizer.zero_grad()\n",
    "    \n",
    "    output = net(x)\n",
    "    \n",
    "    loss = loss_func(output, y)\n",
    "    loss.backward()\n",
    "    \n",
    "    optimizer.step()\n",
    "    \n",
    "    losses.append(loss.item())"
   ]
  },
  {
   "cell_type": "code",
   "execution_count": 6,
   "id": "89814c86",
   "metadata": {},
   "outputs": [
    {
     "data": {
      "text/plain": [
       "[<matplotlib.lines.Line2D at 0x7f8a23233490>]"
      ]
     },
     "execution_count": 6,
     "metadata": {},
     "output_type": "execute_result"
    },
    {
     "data": {
      "image/png": "[encoded data removed]",
      "text/plain": [
       "<Figure size 432x288 with 1 Axes>"
      ]
     },
     "metadata": {
      "needs_background": "light"
     },
     "output_type": "display_data"
    }
   ],
   "source": [
    "from matplotlib import pyplot as plt\n",
    "plt.plot(losses)"
   ]
  },
  {
   "cell_type": "code",
   "execution_count": 7,
   "id": "ce2051cc",
   "metadata": {},
   "outputs": [
    {
     "name": "stdout",
     "output_type": "stream",
     "text": [
      "tensor([[4.9296],\n",
      "        [5.3813],\n",
      "        [3.7546],\n",
      "        [3.7816],\n",
      "        [4.0477]])\n",
      "tensor([[4.9330],\n",
      "        [5.3848],\n",
      "        [3.7238],\n",
      "        [3.8350],\n",
      "        [4.0461]], grad_fn=<AddmmBackward0>)\n"
     ]
    }
   ],
   "source": [
    "x = torch.randn(5,1)\n",
    "y = (x**2) + 3\n",
    "y_pred = net(x)\n",
    "\n",
    "print(y)\n",
    "print(y_pred)"
   ]
  }
 ],
 "metadata": {
  "kernelspec": {
   "display_name": "Python 3 (ipykernel)",
   "language": "python",
   "name": "python3"
  },
  "language_info": {
   "codemirror_mode": {
    "name": "ipython",
    "version": 3
   },
   "file_extension": ".py",
   "mimetype": "text/x-python",
   "name": "python",
   "nbconvert_exporter": "python",
   "pygments_lexer": "ipython3",
   "version": "3.9.7"
  }
 },
 "nbformat": 4,
 "nbformat_minor": 5
}
